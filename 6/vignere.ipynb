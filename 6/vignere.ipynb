{
 "cells": [
  {
   "cell_type": "markdown",
   "metadata": {},
   "source": [
    "                                            ENCRYPTION"
   ]
  },
  {
   "cell_type": "code",
   "execution_count": 64,
   "metadata": {},
   "outputs": [],
   "source": [
    "#reading plain text from input text document to plain_text as string.\n",
    "IN=open(\"input.txt\",\"r\")\n",
    "plain_text=IN.read()"
   ]
  },
  {
   "cell_type": "code",
   "execution_count": 65,
   "metadata": {},
   "outputs": [],
   "source": [
    "#initialising all characters and converting cryptedtext to list of characters.\n",
    "a=[\"A\",\"B\",\"C\",\"D\",\"E\",\"F\",\"G\",\"H\",\"I\",\"J\",\"K\",\"L\",\"M\",\"N\",\"O\",\"P\",\"Q\",\"R\",\"S\",\"T\",\"U\",\"V\",\"W\",\"X\",\"Y\",\"Z\"]\n",
    "key='dark'\n",
    "plain_text=plain_text.upper()\n",
    "list_plain_text=list(plain_text)\n",
    "key=key.upper()\n",
    "list_key=list(key)"
   ]
  },
  {
   "cell_type": "code",
   "execution_count": 66,
   "metadata": {},
   "outputs": [],
   "source": [
    "#function number a text according to its corresponing alphabet.\n",
    "def char_to_number(b_text,a,num_t):\n",
    "    for i in range(0,len(b_text)):\n",
    "        for j in range(0,len(a)):\n",
    "            if b_text[i]==a[j]:\n",
    "                num_t.append(j)"
   ]
  },
  {
   "cell_type": "code",
   "execution_count": 67,
   "metadata": {},
   "outputs": [],
   "source": [
    "#making the list with number intendation to characters in num_txt\n",
    "num_txt=list()\n",
    "char_to_number(list_plain_text,a,num_txt)"
   ]
  },
  {
   "cell_type": "code",
   "execution_count": 68,
   "metadata": {},
   "outputs": [],
   "source": [
    "#converting key list to its corresponding number\n",
    "num_key=list()\n",
    "char_to_number(list_key,a,num_key)"
   ]
  },
  {
   "cell_type": "code",
   "execution_count": 69,
   "metadata": {},
   "outputs": [],
   "source": [
    "#making complete list ( whith length upto plain text list) of key list\n",
    "length=len(num_txt)\n",
    "j=0\n",
    "key_list=list()\n",
    "for i in range(0,length):\n",
    "    if(j==len(num_key)):\n",
    "        j=0\n",
    "    key_list.append(num_key[j])\n",
    "    j=j+1"
   ]
  },
  {
   "cell_type": "code",
   "execution_count": 70,
   "metadata": {},
   "outputs": [],
   "source": [
    "#function to convert plain num to encrypted number using c=(p+key) mod 26  .\n",
    "def encrypt_(num_txt,key_list):\n",
    "    for i in range(0,len(num_txt)):\n",
    "        num_txt[i]=(num_txt[i]+key_list[i])%26"
   ]
  },
  {
   "cell_type": "code",
   "execution_count": 71,
   "metadata": {},
   "outputs": [],
   "source": [
    "#changing plain number list to encrypted number list\n",
    "encrypt_(num_txt,key_list)"
   ]
  },
  {
   "cell_type": "code",
   "execution_count": 72,
   "metadata": {},
   "outputs": [],
   "source": [
    "#function to make alphabets according to its corresponding number.\n",
    "def number_to_char(num_txt,a,crypted_text):\n",
    "    for i in range(0,len(num_txt)):\n",
    "        for j in range(0,len(a)):\n",
    "            if(num_txt[i]==j):\n",
    "                crypted_text.append(a[j])"
   ]
  },
  {
   "cell_type": "code",
   "execution_count": 73,
   "metadata": {},
   "outputs": [],
   "source": [
    "#making the crypted text to crypted_text\n",
    "crypted_text=list()\n",
    "number_to_char(num_txt,a,crypted_text)"
   ]
  },
  {
   "cell_type": "code",
   "execution_count": 74,
   "metadata": {},
   "outputs": [],
   "source": [
    "#converting cypher text list to string\n",
    "cipher_txt=str()\n",
    "cipher_txt=cipher_txt.join(crypted_text)"
   ]
  },
  {
   "cell_type": "code",
   "execution_count": 75,
   "metadata": {},
   "outputs": [
    {
     "data": {
      "text/plain": [
       "14"
      ]
     },
     "execution_count": 75,
     "metadata": {},
     "output_type": "execute_result"
    }
   ],
   "source": [
    "#writing the cipher text to output.txt\n",
    "fl=open(\"output.txt\",\"w\")\n",
    "fl.write(cipher_txt)"
   ]
  },
  {
   "cell_type": "code",
   "execution_count": 76,
   "metadata": {},
   "outputs": [],
   "source": [
    "#finally close the opened files\n",
    "fl.close()\n",
    "IN.close()"
   ]
  },
  {
   "cell_type": "markdown",
   "metadata": {},
   "source": [
    "                                            DECRYPTION"
   ]
  },
  {
   "cell_type": "code",
   "execution_count": 83,
   "metadata": {},
   "outputs": [],
   "source": [
    "#reading encryped text from input text document to crypted_text as string.\n",
    "IN=open(\"output.txt\",\"r\")\n",
    "crypted_text=IN.read()"
   ]
  },
  {
   "cell_type": "code",
   "execution_count": 84,
   "metadata": {},
   "outputs": [],
   "source": [
    "#initialising all characters and converting cryptedtext to list of characters.\n",
    "a=[\"A\",\"B\",\"C\",\"D\",\"E\",\"F\",\"G\",\"H\",\"I\",\"J\",\"K\",\"L\",\"M\",\"N\",\"O\",\"P\",\"Q\",\"R\",\"S\",\"T\",\"U\",\"V\",\"W\",\"X\",\"Y\",\"Z\"]\n",
    "key='dark'\n",
    "crypted_text=crypted_text.upper()\n",
    "list_crypted_text=list(crypted_text)\n",
    "key=key.upper()\n",
    "list_key=list(key)"
   ]
  },
  {
   "cell_type": "code",
   "execution_count": 85,
   "metadata": {},
   "outputs": [],
   "source": [
    "#function number a text according to its corresponing alphabet.\n",
    "def char_to_number(b_text,a,num_t):\n",
    "    for i in range(0,len(b_text)):\n",
    "        for j in range(0,len(a)):\n",
    "            if b_text[i]==a[j]:\n",
    "                num_t.append(j)"
   ]
  },
  {
   "cell_type": "code",
   "execution_count": 86,
   "metadata": {},
   "outputs": [],
   "source": [
    "#making the list with number intendation to characters in num_txt\n",
    "num_txt=list()\n",
    "char_to_number(list_crypted_text,a,num_txt)"
   ]
  },
  {
   "cell_type": "code",
   "execution_count": 87,
   "metadata": {},
   "outputs": [],
   "source": [
    "#converting key list to its corresponding number\n",
    "num_key=list()\n",
    "char_to_number(list_key,a,num_key)"
   ]
  },
  {
   "cell_type": "code",
   "execution_count": 88,
   "metadata": {},
   "outputs": [],
   "source": [
    "#making complete list ( whith length upto encrypted text list) of key list\n",
    "length=len(num_txt)\n",
    "j=0\n",
    "key_list=list()\n",
    "for i in range(0,length):\n",
    "    if(j==len(num_key)):\n",
    "        j=0\n",
    "    key_list.append(num_key[j])\n",
    "    j=j+1"
   ]
  },
  {
   "cell_type": "code",
   "execution_count": 89,
   "metadata": {},
   "outputs": [],
   "source": [
    "#function to convert encrypted num to plain number using c=(p-key) mod 26  .\n",
    "def decrypt_(num_txt,key_list):\n",
    "    for i in range(0,len(num_txt)):\n",
    "        num_txt[i]=(num_txt[i]-key_list[i])%26"
   ]
  },
  {
   "cell_type": "code",
   "execution_count": 90,
   "metadata": {},
   "outputs": [],
   "source": [
    "#changing plain number list to decrypted number list\n",
    "decrypt_(num_txt,key_list)"
   ]
  },
  {
   "cell_type": "code",
   "execution_count": 91,
   "metadata": {},
   "outputs": [],
   "source": [
    "#function to make alphabets according to its corresponding number.\n",
    "def number_to_char(num_txt,a,plain_text):\n",
    "    for i in range(0,len(num_txt)):\n",
    "        for j in range(0,len(a)):\n",
    "            if(num_txt[i]==j):\n",
    "                plain_text.append(a[j])"
   ]
  },
  {
   "cell_type": "code",
   "execution_count": 92,
   "metadata": {},
   "outputs": [],
   "source": [
    "#making the decrypted text to plain_text\n",
    "plain_text=list()\n",
    "number_to_char(num_txt,a,plain_text)"
   ]
  },
  {
   "cell_type": "code",
   "execution_count": 93,
   "metadata": {},
   "outputs": [],
   "source": [
    "#converting plain text list to string\n",
    "plain_txt=str()\n",
    "plain_txt=plain_txt.join(plain_text)"
   ]
  },
  {
   "cell_type": "code",
   "execution_count": 94,
   "metadata": {},
   "outputs": [
    {
     "data": {
      "text/plain": [
       "14"
      ]
     },
     "execution_count": 94,
     "metadata": {},
     "output_type": "execute_result"
    }
   ],
   "source": [
    "#writing the plain text to input.txt\n",
    "fl=open(\"input.txt\",\"w\")\n",
    "fl.write(plain_txt)"
   ]
  },
  {
   "cell_type": "code",
   "execution_count": 95,
   "metadata": {},
   "outputs": [],
   "source": [
    "#finally close the opened files\n",
    "fl.close()\n",
    "IN.close()"
   ]
  },
  {
   "cell_type": "code",
   "execution_count": null,
   "metadata": {},
   "outputs": [],
   "source": []
  }
 ],
 "metadata": {
  "kernelspec": {
   "display_name": "SageMath 9.1",
   "language": "sage",
   "name": "sagemath"
  },
  "language_info": {
   "codemirror_mode": {
    "name": "ipython",
    "version": 3
   },
   "file_extension": ".py",
   "mimetype": "text/x-python",
   "name": "python",
   "nbconvert_exporter": "python",
   "pygments_lexer": "ipython3",
   "version": "3.7.3"
  }
 },
 "nbformat": 4,
 "nbformat_minor": 2
}
