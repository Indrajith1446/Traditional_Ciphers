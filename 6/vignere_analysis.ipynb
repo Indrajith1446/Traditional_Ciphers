{
 "cells": [
  {
   "cell_type": "markdown",
   "metadata": {},
   "source": [
    "CRYPTANALYSIS OF VIGNERE CIPHER\n",
    "\n",
    "Vignere cipher is where encryption happens as ci=(pi+ki)mod 26 where key domain k is obtained by repeationg the the key\n",
    "if it is small and decryption happens as pi=(ci-ki)mod 26. The methods for finding the key are :-"
   ]
  },
  {
   "cell_type": "markdown",
   "metadata": {},
   "source": [
    "    METHOD 1 : CYPHER TEXT ONLY ATTACK\n",
    "\n",
    "    This is where the adversary has only one or a few cypher texts with her and then since the algorithms are made public\n",
    "    she does analysis on the cypher text to find the key.\n",
    "\n",
    "\n",
    "    Type 1 : Brute Force Attack - Here we are trying out every possible pair of keys to findout what output makes sense"
   ]
  },
  {
   "cell_type": "code",
   "execution_count": null,
   "metadata": {},
   "outputs": [],
   "source": [
    "#This is eves decryption machine\n",
    "def decrypt(crypted_text,key):\n",
    "    #initialising all characters and converting cryptedtext to list of characters.\n",
    "    a=[\"A\",\"B\",\"C\",\"D\",\"E\",\"F\",\"G\",\"H\",\"I\",\"J\",\"K\",\"L\",\"M\",\"N\",\"O\",\"P\",\"Q\",\"R\",\"S\",\"T\",\"U\",\"V\",\"W\",\"X\",\"Y\",\"Z\"]\n",
    "    list_crypted_text=crypted_text\n",
    "    key=key.upper()\n",
    "    list_key=list(key)\n",
    "    #function number a text according to its corresponing alphabet.\n",
    "    def char_to_number(b_text,a,num_t):\n",
    "        for i in range(0,len(b_text)):\n",
    "            for j in range(0,len(a)):\n",
    "                if b_text[i]==a[j]:\n",
    "                    num_t.append(j)\n",
    "    #making the list with number intendation to characters in num_txt\n",
    "    num_txt=list()\n",
    "    char_to_number(list_crypted_text,a,num_txt)\n",
    "    #converting key list to its corresponding number\n",
    "    num_key=list()\n",
    "    char_to_number(list_key,a,num_key)\n",
    "    #making complete list ( whith length upto encrypted text list) of key list\n",
    "    length=len(num_txt)\n",
    "    j=0\n",
    "    key_list=list()\n",
    "    for i in range(0,length):\n",
    "        if(j==len(num_key)):\n",
    "            j=0\n",
    "        key_list.append(num_key[j])\n",
    "        j=j+1\n",
    "    #function to convert encrypted num to plain number using c=(p-key) mod 26  .\n",
    "    def decrypt_(num_txt,key_list):\n",
    "        for i in range(0,len(num_txt)):\n",
    "            num_txt[i]=(num_txt[i]-key_list[i])%26\n",
    "    #changing plain number list to decrypted number list\n",
    "    decrypt_(num_txt,key_list)\n",
    "    #function to make alphabets according to its corresponding number.\n",
    "    def number_to_char(num_txt,a,plain_text):\n",
    "        for i in range(0,len(num_txt)):\n",
    "            for j in range(0,len(a)):\n",
    "                if(num_txt[i]==j):\n",
    "                    plain_text.append(a[j])\n",
    "    #making the decrypted text to plain_text\n",
    "    plain_text=list()\n",
    "    number_to_char(num_txt,a,plain_text)\n",
    "    #converting plain text list to string\n",
    "    plain_txt=str()\n",
    "    plain_txt=plain_txt.join(plain_text)\n",
    "    #writing the plain text to input.txt\n",
    "    fl=open(\"input.txt\",\"w\")\n",
    "    fl.write(plain_txt)\n",
    "    #finally close the opened files\n",
    "    fl.close()\n",
    "    IN.close()"
   ]
  },
  {
   "cell_type": "code",
   "execution_count": 3,
   "metadata": {},
   "outputs": [],
   "source": [
    "#reading encryped text from input text document to crypted_text as string.\n",
    "IN=open(\"output.txt\",\"r\")\n",
    "crypted_text=IN.read()\n",
    "a=[\"A\",\"B\",\"C\",\"D\",\"E\",\"F\",\"G\",\"H\",\"I\",\"J\",\"K\",\"L\",\"M\",\"N\",\"O\",\"P\",\"Q\",\"R\",\"S\",\"T\",\"U\",\"V\",\"W\",\"X\",\"Y\",\"Z\"]"
   ]
  },
  {
   "cell_type": "code",
   "execution_count": 4,
   "metadata": {},
   "outputs": [],
   "source": [
    "#looping through all possibilities of key and calling the decryption algorithm is literally bad idea because it has a key \n",
    "#domain of 26! which is an awfully lot of possibilities"
   ]
  },
  {
   "cell_type": "markdown",
   "metadata": {},
   "source": [
    "    So since Brute force is a bad idea the better idea wold be to find the length of the key i.e using kaisiskis test \n",
    "    where we take combination of 3 letters that rapeats after a certain character length and then finds out what could\n",
    "    be the key length then divides the text into that parts like if the key is of legth 4 then 1,5,9.. would be a group\n",
    "    and then we treat each setion individually as a monoalphabetic substitution and then does brute force for that"
   ]
  },
  {
   "cell_type": "code",
   "execution_count": 14,
   "metadata": {},
   "outputs": [
    {
     "name": "stdout",
     "output_type": "stream",
     "text": [
      "['F', 'G', 'L', 'Z', 'O', 'E', 'Y', 'E', 'K', 'J', 'S', 'N', 'W', 'C', 'K', 'Z', 'V', 'F', 'A', 'B', 'Y', 'O', 'O', 'O', 'X', 'U', 'M', 'K', 'X', 'P', 'F', 'H', 'D', 'Q', 'T', 'P', 'X', 'U', 'D', 'P', 'T', 'Y', 'C', 'O', 'S', 'I', 'V', 'V', 'R', 'R', 'U', 'O', 'L', 'Z', 'H', 'H', 'C', 'T', 'R', 'N', 'I', 'L', 'U', 'X', 'G', 'Y', 'V', 'V', 'T', 'E', 'B', 'W', 'R', 'J', 'N', 'N', 'K', 'K', 'E', 'P', 'C', 'Y', 'A', 'Z', 'H', 'B', 'F', 'M', 'I', 'I', 'G', 'Y', 'E', 'P', 'C', 'N']\n",
      "['G', 'L', 'Z', 'O', 'E', 'Y', 'E', 'K', 'J', 'S', 'N', 'W', 'C', 'K', 'Z', 'V', 'F', 'A', 'B', 'Y', 'O', 'O', 'O', 'X', 'U', 'M', 'K', 'X', 'P', 'F', 'H', 'D', 'Q', 'T', 'P', 'X', 'U', 'D', 'P', 'T', 'Y', 'C', 'O', 'S', 'I', 'V', 'V', 'R', 'R', 'U', 'O', 'L', 'Z', 'H', 'H', 'C', 'T', 'R', 'N', 'I', 'L', 'U', 'X', 'G', 'Y', 'V', 'V', 'T', 'E', 'B', 'W', 'R', 'J', 'N', 'N', 'K', 'K', 'E', 'P', 'C', 'Y', 'A', 'Z', 'H', 'B', 'F', 'M', 'I', 'I', 'G', 'Y', 'E', 'P', 'C', 'N', 'Y']\n",
      "['L', 'Z', 'O', 'E', 'Y', 'E', 'K', 'J', 'S', 'N', 'W', 'C', 'K', 'Z', 'V', 'F', 'A', 'B', 'Y', 'O', 'O', 'O', 'X', 'U', 'M', 'K', 'X', 'P', 'F', 'H', 'D', 'Q', 'T', 'P', 'X', 'U', 'D', 'P', 'T', 'Y', 'C', 'O', 'S', 'I', 'V', 'V', 'R', 'R', 'U', 'O', 'L', 'Z', 'H', 'H', 'C', 'T', 'R', 'N', 'I', 'L', 'U', 'X', 'G', 'Y', 'V', 'V', 'T', 'E', 'B', 'W', 'R', 'J', 'N', 'N', 'K', 'K', 'E', 'P', 'C', 'Y', 'A', 'Z', 'H', 'B', 'F', 'M', 'I', 'I', 'G', 'Y', 'E', 'P', 'C', 'N', 'Y', 'Z']\n",
      "['Z', 'O', 'E', 'Y', 'E', 'K', 'J', 'S', 'N', 'W', 'C', 'K', 'Z', 'V', 'F', 'A', 'B', 'Y', 'O', 'O', 'O', 'X', 'U', 'M', 'K', 'X', 'P', 'F', 'H', 'D', 'Q', 'T', 'P', 'X', 'U', 'D', 'P', 'T', 'Y', 'C', 'O', 'S', 'I', 'V', 'V', 'R', 'R', 'U', 'O', 'L', 'Z', 'H', 'H', 'C', 'T', 'R', 'N', 'I', 'L', 'U', 'X', 'G', 'Y', 'V', 'V', 'T', 'E', 'B', 'W', 'R', 'J', 'N', 'N', 'K', 'K', 'E', 'P', 'C', 'Y', 'A', 'Z', 'H', 'B', 'F', 'M', 'I', 'I', 'G', 'Y', 'E', 'P', 'C', 'N', 'Y', 'Z', 'K']\n"
     ]
    }
   ],
   "source": [
    "#instead of kisiski test we will be trying guessing of key from 3 since 1 and 2,3 would be easily detectable\n",
    "#so lets start from four \n",
    "t_1=[]\n",
    "t_2=[]\n",
    "t_3=[]\n",
    "t_4=[]\n",
    "for i in range((int)(len(crypted_text)/4)):\n",
    "    t_1.append(crypted_text[i])\n",
    "    t_2.append(crypted_text[i+1])\n",
    "    t_3.append(crypted_text[i+2])\n",
    "    t_4.append(crypted_text[i+3])\n",
    "    i=i+4\n",
    "print(t_1)\n",
    "print(t_2)\n",
    "print(t_3)\n",
    "print(t_4)"
   ]
  },
  {
   "cell_type": "code",
   "execution_count": 15,
   "metadata": {},
   "outputs": [],
   "source": [
    "#so it narrows down to 26^4 key domain"
   ]
  },
  {
   "cell_type": "code",
   "execution_count": null,
   "metadata": {},
   "outputs": [],
   "source": []
  }
 ],
 "metadata": {
  "kernelspec": {
   "display_name": "SageMath 9.1",
   "language": "sage",
   "name": "sagemath"
  },
  "language_info": {
   "codemirror_mode": {
    "name": "ipython",
    "version": 3
   },
   "file_extension": ".py",
   "mimetype": "text/x-python",
   "name": "python",
   "nbconvert_exporter": "python",
   "pygments_lexer": "ipython3",
   "version": "3.7.3"
  }
 },
 "nbformat": 4,
 "nbformat_minor": 2
}
