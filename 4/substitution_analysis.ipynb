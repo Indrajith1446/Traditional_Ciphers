{
 "cells": [
  {
   "cell_type": "markdown",
   "metadata": {},
   "source": [
    "CRYPTANALYSIS OF SUBSTITUTION CIPHER\n",
    "\n",
    "\n",
    "Substitiution cipher is a monoalphabetic substitution method in which encryption occours as ci=(pi+ki)mod 26 and decryption \n",
    "happens as pi=(ci-ki)mod 26 . The speciality of the key is that all the alphabets in the keys ordering is random .so it \n",
    "makes the domain of key very large.\n",
    "\n",
    "Cryptanalysis mehods for substitution cipher are;-"
   ]
  },
  {
   "cell_type": "markdown",
   "metadata": {},
   "source": [
    "\n",
    "    METHOD 1 : CYPHER TEXT ONLY ATTACK\n",
    "\n",
    "    This is where the adversary/eve has only one or a few cypher texts with her and then since the algorithm is made public\n",
    "    she does analysis on the cypher text to find the key.\n",
    "    \n",
    "    Brute Force Attack: Here she tries all the possible keys to find the one that makes most sense out of the plain texts\n"
   ]
  },
  {
   "cell_type": "code",
   "execution_count": 38,
   "metadata": {},
   "outputs": [],
   "source": [
    "#Eves decryption machine\n",
    "def decrypt(list_key,crypted_text):\n",
    "    #initialising all characters and converting cryptedtext to list of characters.\n",
    "    a=[\"A\",\"B\",\"C\",\"D\",\"E\",\"F\",\"G\",\"H\",\"I\",\"J\",\"K\",\"L\",\"M\",\"N\",\"O\",\"P\",\"Q\",\"R\",\"S\",\"T\",\"U\",\"V\",\"W\",\"X\",\"Y\",\"Z\"]\n",
    "    crypted_text=crypted_text.upper()\n",
    "    list_crypted_text=list(crypted_text)\n",
    "    #function number a text according to its corresponing alphabet.\n",
    "    def char_to_number(b_text,a,num_t):\n",
    "        for i in range(0,len(b_text)):\n",
    "            for j in range(0,len(a)):\n",
    "                if b_text[i]==a[j]:\n",
    "                    num_t.append(j)\n",
    "    #making the list with number intendation to characters in num_txt\n",
    "    num_txt=list()\n",
    "    char_to_number(list_crypted_text,a,num_txt)\n",
    "    #converting key list to its corresponding number\n",
    "    key_list=list()\n",
    "    char_to_number(list_key,a,key_list)\n",
    "    #function to convert encrypted num to plain number using c=(p-key) mod 26  .\n",
    "    def decrypt_(num_txt,key_list):\n",
    "        for i in range(0,len(num_txt)):\n",
    "            num_txt[i]=(num_txt[i]-key_list[(i%26)])%26\n",
    "    #changing plain number list to decrypted number list\n",
    "    decrypt_(num_txt,key_list)\n",
    "    def number_to_char(num_txt,a,crypted_text):\n",
    "        for i in range(0,len(num_txt)):\n",
    "            for j in range(0,len(a)):\n",
    "                if(num_txt[i]==j):\n",
    "                    crypted_text.append(a[j])\n",
    "    #making the decrypted text to plain_text\n",
    "    plain_text=list()\n",
    "    number_to_char(num_txt,a,plain_text)\n",
    "    #converting plain text list to string\n",
    "    plain_txt=str()\n",
    "    plain_txt=plain_txt.join(plain_text)\n",
    "    #writing the plain text to input.txt\n",
    "    fl=open(\"input.txt\",\"w\")\n",
    "    fl.write(plain_txt)\n",
    "    #finally close the opened files\n",
    "    fl.close()\n",
    "    IN.close()\n",
    "    print(plain_txt)"
   ]
  },
  {
   "cell_type": "code",
   "execution_count": null,
   "metadata": {},
   "outputs": [],
   "source": [
    "#Alices encryption machine\n",
    "def Alices_machine():\n",
    "    #reading plain text from input text document to plain_text as string.\n",
    "    IN=open(\"input.txt\",\"r\")\n",
    "    plain_text=IN.read()\n",
    "    #initialising all characters and converting cryptedtext to list of characters.\n",
    "    a=[\"A\",\"B\",\"C\",\"D\",\"E\",\"F\",\"G\",\"H\",\"I\",\"J\",\"K\",\"L\",\"M\",\"N\",\"O\",\"P\",\"Q\",\"R\",\"S\",\"T\",\"U\",\"V\",\"W\",\"X\",\"Y\",\"Z\"]\n",
    "    key='noatrbecfuxdqgylkhvijmpzsw'\n",
    "    plain_text=plain_text.upper()\n",
    "    list_plain_text=list(plain_text)\n",
    "    key=key.upper()\n",
    "    list_key=list(key)\n",
    "    #function number a text according to its corresponing alphabet.\n",
    "    def char_to_number(b_text,a,num_t):\n",
    "        for i in range(0,len(b_text)):\n",
    "            for j in range(0,len(a)):\n",
    "                 if b_text[i]==a[j]:\n",
    "                    num_t.append(j)\n",
    "    #making the list with number intendation to characters in num_txt\n",
    "    num_txt=list()\n",
    "    char_to_number(list_plain_text,a,num_txt)\n",
    "    #converting key list to its corresponding number\n",
    "    key_list=list()\n",
    "    char_to_number(list_key,a,key_list)\n",
    "    #function to convert plain num to encrypted number using c=(p+key) mod 26  .\n",
    "    def encrypt_(num_txt,key_list):\n",
    "        for i in range(0,len(num_txt)):\n",
    "            num_txt[i]=(num_txt[i]+key_list[(i%26)])%26\n",
    "    #changing plain number list to encrypted number list\n",
    "    encrypt_(num_txt,key_list)\n",
    "    #function to make alphabets according to its corresponding number.\n",
    "    def number_to_char(num_txt,a,crypted_text):\n",
    "        for i in range(0,len(num_txt)):\n",
    "            for j in range(0,len(a)):\n",
    "                if(num_txt[i]==j):\n",
    "                    crypted_text.append(a[j])\n",
    "    #making the crypted text to crypted_text\n",
    "    crypted_text=list()\n",
    "    number_to_char(num_txt,a,crypted_text)\n",
    "    #converting cypher text list to string\n",
    "    cipher_txt=str()\n",
    "    cipher_txt=cipher_txt.join(crypted_text)\n",
    "    #writing the cipher text to output.txt\n",
    "    fl=open(\"output.txt\",\"w\")\n",
    "    fl.write(cipher_txt)\n",
    "    #finally close the opened files\n",
    "    fl.close()\n",
    "    IN.close()"
   ]
  },
  {
   "cell_type": "code",
   "execution_count": null,
   "metadata": {},
   "outputs": [],
   "source": [
    "#Bobs decryption machine\n",
    "def Bobs_machine();\n",
    "    #reading encryped text from input text document to crypted_text as string.\n",
    "    IN=open(\"output.txt\",\"r\")\n",
    "    crypted_text=IN.read()\n",
    "    #initialising all characters and converting cryptedtext to list of characters.\n",
    "    a=[\"A\",\"B\",\"C\",\"D\",\"E\",\"F\",\"G\",\"H\",\"I\",\"J\",\"K\",\"L\",\"M\",\"N\",\"O\",\"P\",\"Q\",\"R\",\"S\",\"T\",\"U\",\"V\",\"W\",\"X\",\"Y\",\"Z\"]\n",
    "    key='noatrbecfuxdqgylkhvijmpzsw'\n",
    "    crypted_text=crypted_text.upper()\n",
    "    list_crypted_text=list(crypted_text)\n",
    "    key=key.upper()\n",
    "    list_key=list(key)\n",
    "    #function number a text according to its corresponing alphabet.\n",
    "    def char_to_number(b_text,a,num_t):\n",
    "        for i in range(0,len(b_text)):\n",
    "            for j in range(0,len(a)):\n",
    "                if b_text[i]==a[j]:\n",
    "                    num_t.append(j)\n",
    "    #making the list with number intendation to characters in num_txt\n",
    "    num_txt=list()\n",
    "    char_to_number(list_crypted_text,a,num_txt)\n",
    "    #converting key list to its corresponding number\n",
    "    key_list=list()\n",
    "    char_to_number(list_key,a,key_list)\n",
    "    #function to convert encrypted num to plain number using c=(p-key) mod 26  .\n",
    "    def decrypt_(num_txt,key_list):\n",
    "        for i in range(0,len(num_txt)):\n",
    "            num_txt[i]=(num_txt[i]-key_list[(i%26)])%26\n",
    "    #changing plain number list to decrypted number list\n",
    "    decrypt_(num_txt,key_list)\n",
    "    #making the decrypted text to plain_text\n",
    "    plain_text=list()\n",
    "    number_to_char(num_txt,a,plain_text)\n",
    "    #converting plain text list to string\n",
    "    plain_txt=str()\n",
    "    plain_txt=plain_txt.join(plain_text)\n",
    "    #writing the plain text to input.txt\n",
    "    fl=open(\"input.txt\",\"w\")\n",
    "    fl.write(plain_txt)\n",
    "    #finally close the opened files\n",
    "    fl.close()\n",
    "    IN.close()"
   ]
  },
  {
   "cell_type": "markdown",
   "metadata": {},
   "source": [
    "    Cryptanalysis of substitution cipher would be the most difficult as the key domain has almost 4X10^26 type \n",
    "    but since it does not alter the frequency of characters it is vulnurable to frequency attack but is not reliable."
   ]
  },
  {
   "cell_type": "code",
   "execution_count": 39,
   "metadata": {},
   "outputs": [],
   "source": [
    "#list according to most frequent of english alphabets \n",
    "freq_lst=['E','T','A','O','I','N','S','H','R','D','L','C','U','M','W','F','G','Y','P','B','V','K','J','Q','X','Z']"
   ]
  },
  {
   "cell_type": "code",
   "execution_count": 40,
   "metadata": {},
   "outputs": [],
   "source": [
    "#reading encryped text from input text document to crypted_text as string.\n",
    "IN=open(\"output.txt\",\"r\")\n",
    "crypted_text=IN.read()\n",
    "a=[\"A\",\"B\",\"C\",\"D\",\"E\",\"F\",\"G\",\"H\",\"I\",\"J\",\"K\",\"L\",\"M\",\"N\",\"O\",\"P\",\"Q\",\"R\",\"S\",\"T\",\"U\",\"V\",\"W\",\"X\",\"Y\",\"Z\"]\n",
    "lst={}"
   ]
  },
  {
   "cell_type": "code",
   "execution_count": 41,
   "metadata": {},
   "outputs": [],
   "source": [
    "def frequency(st):\n",
    "    freq={}\n",
    "    for i in st:\n",
    "        if i in freq:\n",
    "            freq[i]+=1\n",
    "        else:\n",
    "            freq[i]=1\n",
    "    return freq"
   ]
  },
  {
   "cell_type": "code",
   "execution_count": 42,
   "metadata": {},
   "outputs": [
    {
     "name": "stdout",
     "output_type": "stream",
     "text": [
      "{'N': 8, 'G': 13, 'T': 18, 'K': 21, 'Z': 17, 'L': 18, 'I': 13, 'X': 11, 'U': 13, 'A': 21, 'H': 19, 'E': 16, 'O': 14, 'P': 16, 'B': 22, 'S': 8, 'Y': 13, 'J': 14, 'C': 15, 'W': 15, 'V': 17, 'M': 9, 'F': 11, 'D': 12, 'Q': 19, 'R': 12}\n",
      "['A', 'B', 'C', 'D', 'E', 'F', 'G', 'H', 'I', 'J', 'K', 'L', 'M', 'N', 'O', 'P', 'Q', 'R', 'S', 'T', 'U', 'V', 'W', 'X', 'Y', 'Z']\n",
      "['E', 'T', 'A', 'O', 'I', 'N', 'S', 'H', 'R', 'D', 'L', 'C', 'U', 'M', 'W', 'F', 'G', 'Y', 'P', 'B', 'V', 'K', 'J', 'Q', 'X', 'Z']\n"
     ]
    }
   ],
   "source": [
    "lst=frequency(crypted_text)\n",
    "print(lst)\n",
    "\n",
    "print (a)\n",
    "print (freq_lst)"
   ]
  },
  {
   "cell_type": "code",
   "execution_count": 33,
   "metadata": {},
   "outputs": [],
   "source": [
    "#so now we make custom key with unknowns as same and knows or the ones we are sure with proper substitution\n",
    "key=[\"A\",\"Z\",\"C\",\"D\",\"B\",\"F\",\"G\",\"H\",\"I\",\"J\",\"Z\",\"L\",\"M\",\"N\",\"O\",\"P\",\"Q\",\"R\",\"S\",\"K\",\"U\",\"V\",\"W\",\"X\",\"Y\",\"Z\"]"
   ]
  },
  {
   "cell_type": "code",
   "execution_count": 37,
   "metadata": {},
   "outputs": [
    {
     "name": "stdout",
     "output_type": "stream",
     "text": [
      "CQPQPOMBEFBXTAKPMGQAJQGWPOCZSAUCHRIMNBMTTSNDALRDFNWFXZPNJVAAITXZVAPPSMXAZFIDGTNQCFHFUKXVHKJAQPMVZFUSYPTBCIYBAVDYXVIEUEQYCSESGVNWAGBZMVKDJAWVUPGLECYOPJGBGRGTNXAGPOFYYFQJKOQLKMQSRFTHXBYWCRLYHTMJYNKEZOKHXMYSYJDFNAIFLOQTESBNQRXDYMULIHYLPDQIYGOVJFHZCIDSPADCGMGFYQJPYVPZPZHXXJCPJLFQCDZLCVTWUEJIRJOYBAYVYKXTBJWZEGYGFNSUHTAULMXTCKHWLUXZOSEFADWJBOYBCNMIYLVREDCOKTMCOJOSWLTUTVPVLDBXXIUPCIJPKKMEV\n"
     ]
    }
   ],
   "source": [
    "#Above is the almost key obtained by frequency analysis now decrypt and see partial informations\n",
    "decrypt(key,crypted_text)"
   ]
  },
  {
   "cell_type": "markdown",
   "metadata": {},
   "source": [
    "     AS MENTIONED BEFORE THERE IS NO GUARANTEE IN GETTING THE PROPER PLAIN TEXT"
   ]
  },
  {
   "cell_type": "code",
   "execution_count": null,
   "metadata": {},
   "outputs": [],
   "source": []
  }
 ],
 "metadata": {
  "kernelspec": {
   "display_name": "SageMath 9.1",
   "language": "sage",
   "name": "sagemath"
  },
  "language_info": {
   "codemirror_mode": {
    "name": "ipython",
    "version": 3
   },
   "file_extension": ".py",
   "mimetype": "text/x-python",
   "name": "python",
   "nbconvert_exporter": "python",
   "pygments_lexer": "ipython3",
   "version": "3.7.3"
  }
 },
 "nbformat": 4,
 "nbformat_minor": 2
}
