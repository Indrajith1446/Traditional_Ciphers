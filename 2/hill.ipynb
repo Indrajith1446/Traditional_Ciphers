{
 "cells": [
  {
   "cell_type": "markdown",
   "metadata": {},
   "source": [
    "\n",
    "                                            ENCRYPTION\n"
   ]
  },
  {
   "cell_type": "code",
   "execution_count": 1,
   "metadata": {},
   "outputs": [],
   "source": [
    "#importing library numpy for matrix manipulation\n",
    "import numpy as np"
   ]
  },
  {
   "cell_type": "code",
   "execution_count": 2,
   "metadata": {},
   "outputs": [],
   "source": [
    "#reading plain text from input text document to plain_text as string.\n",
    "IN=open(\"input.txt\",\"r\")\n",
    "plain_text=IN.read()"
   ]
  },
  {
   "cell_type": "code",
   "execution_count": 3,
   "metadata": {},
   "outputs": [],
   "source": [
    "#initialising all characters and converting plaintext to list of characters.\n",
    "a=[\"A\",\"B\",\"C\",\"D\",\"E\",\"F\",\"G\",\"H\",\"I\",\"J\",\"K\",\"L\",\"M\",\"N\",\"O\",\"P\",\"Q\",\"R\",\"S\",\"T\",\"U\",\"V\",\"W\",\"X\",\"Y\",\"Z\"]\n",
    "plain_text=plain_text.upper()\n",
    "list_plain_text=list(plain_text)"
   ]
  },
  {
   "cell_type": "code",
   "execution_count": 4,
   "metadata": {},
   "outputs": [],
   "source": [
    "#function number a text according to its corresponing alphabet.\n",
    "def char_to_number(b_text,a,num_txt):\n",
    "    for i in range(0,len(list_plain_text)):\n",
    "        for j in range(0,len(a)):\n",
    "            if b_text[i]==a[j]:\n",
    "                num_txt.append(j)"
   ]
  },
  {
   "cell_type": "code",
   "execution_count": 18,
   "metadata": {},
   "outputs": [],
   "source": [
    "#making the list with number intendation to characters in num_txt\n",
    "num_txt=list()\n",
    "char_to_number(list_plain_text,a,num_txt)\n",
    "length=len(num_txt)"
   ]
  },
  {
   "cell_type": "code",
   "execution_count": 19,
   "metadata": {},
   "outputs": [],
   "source": [
    "#finding column length\n",
    "if length<4:\n",
    "    column=length\n",
    "else:\n",
    "    column=4"
   ]
  },
  {
   "cell_type": "code",
   "execution_count": 20,
   "metadata": {},
   "outputs": [],
   "source": [
    "#finding the number of rows required for the matrix of given column\n",
    "row=(len(num_txt))%column\n",
    "if row==0:\n",
    "    row=(int)(len(num_txt))/column\n",
    "else:\n",
    "    row=(int)((len(num_txt))/column)+1"
   ]
  },
  {
   "cell_type": "code",
   "execution_count": 21,
   "metadata": {},
   "outputs": [],
   "source": [
    "#defining keymatrix and plaintext matrix with default values\n",
    "matkey=[[0 for i in range(column)] for j in range(column)]\n",
    "matplain=[[25 for i in range(column)] for j in range(row)]"
   ]
  },
  {
   "cell_type": "code",
   "execution_count": 22,
   "metadata": {},
   "outputs": [],
   "source": [
    "#setting values for matrix\n",
    "if column==1:\n",
    "    matkey=[[9]]\n",
    "elif column==2:\n",
    "    matkey=[[9,7],[4,7]]\n",
    "elif column==3:\n",
    "    matkey=[[9,7,11],[4,7,5],[2,21,14]]\n",
    "else:\n",
    "    matkey=[[9,7,11,13],[4,7,5,6],[2,21,14,9],[3,23,21,8]]"
   ]
  },
  {
   "cell_type": "code",
   "execution_count": 23,
   "metadata": {},
   "outputs": [],
   "source": [
    "#assigning values to the matrix of plain text from the plain text list\n",
    "k=0\n",
    "for i in range(row):\n",
    "    for j in range(column):\n",
    "        if(k<len(num_txt)):\n",
    "            matplain[i][j]=num_txt[k]\n",
    "            k=k+1"
   ]
  },
  {
   "cell_type": "code",
   "execution_count": 24,
   "metadata": {},
   "outputs": [],
   "source": [
    "#encrypting using matrix multiplication using plain text matrix and key matrix\n",
    "finalmat=np.dot(matplain,matkey)%26"
   ]
  },
  {
   "cell_type": "code",
   "execution_count": 25,
   "metadata": {},
   "outputs": [],
   "source": [
    "#changing the encrypted matrix to encrypted list\n",
    "k=0\n",
    "for i in range(row):\n",
    "    for j in range(column):\n",
    "        if(k<len(num_txt)):\n",
    "            num_txt[k]=finalmat[i][j]\n",
    "            k=k+1\n",
    "        else:\n",
    "            num_txt.append(finalmat[i][j])"
   ]
  },
  {
   "cell_type": "code",
   "execution_count": 26,
   "metadata": {},
   "outputs": [],
   "source": [
    "#function to make alphabets according to its corresponding number.\n",
    "def number_to_char(num_txt,a,crypted_text):\n",
    "    for i in range(0,len(num_txt)):\n",
    "        for j in range(0,len(a)):\n",
    "            if(num_txt[i]==j):\n",
    "                crypted_text.append(a[j])"
   ]
  },
  {
   "cell_type": "code",
   "execution_count": 27,
   "metadata": {},
   "outputs": [
    {
     "name": "stdout",
     "output_type": "stream",
     "text": [
      "[array([14, 18, 15, 24]), array([14,  8, 15,  5]), array([ 1, 12, 18, 12]), array([ 3,  1, 12, 14])]\n"
     ]
    },
    {
     "ename": "ValueError",
     "evalue": "The truth value of an array with more than one element is ambiguous. Use a.any() or a.all()",
     "output_type": "error",
     "traceback": [
      "\u001b[0;31m---------------------------------------------------------------------------\u001b[0m",
      "\u001b[0;31mValueError\u001b[0m                                Traceback (most recent call last)",
      "\u001b[0;32m<ipython-input-27-3b2fcfac4a4c>\u001b[0m in \u001b[0;36m<module>\u001b[0;34m()\u001b[0m\n\u001b[1;32m      2\u001b[0m \u001b[0mcrypted_text\u001b[0m\u001b[0;34m=\u001b[0m\u001b[0mlist\u001b[0m\u001b[0;34m(\u001b[0m\u001b[0;34m)\u001b[0m\u001b[0;34m\u001b[0m\u001b[0;34m\u001b[0m\u001b[0m\n\u001b[1;32m      3\u001b[0m \u001b[0mprint\u001b[0m\u001b[0;34m(\u001b[0m\u001b[0mnum_txt\u001b[0m\u001b[0;34m)\u001b[0m\u001b[0;34m\u001b[0m\u001b[0;34m\u001b[0m\u001b[0m\n\u001b[0;32m----> 4\u001b[0;31m \u001b[0mnumber_to_char\u001b[0m\u001b[0;34m(\u001b[0m\u001b[0mnum_txt\u001b[0m\u001b[0;34m,\u001b[0m\u001b[0ma\u001b[0m\u001b[0;34m,\u001b[0m\u001b[0mcrypted_text\u001b[0m\u001b[0;34m)\u001b[0m\u001b[0;34m\u001b[0m\u001b[0;34m\u001b[0m\u001b[0m\n\u001b[0m",
      "\u001b[0;32m<ipython-input-26-d5d15bc3e561>\u001b[0m in \u001b[0;36mnumber_to_char\u001b[0;34m(num_txt, a, crypted_text)\u001b[0m\n\u001b[1;32m      3\u001b[0m     \u001b[0;32mfor\u001b[0m \u001b[0mi\u001b[0m \u001b[0;32min\u001b[0m \u001b[0mrange\u001b[0m\u001b[0;34m(\u001b[0m\u001b[0mInteger\u001b[0m\u001b[0;34m(\u001b[0m\u001b[0;36m0\u001b[0m\u001b[0;34m)\u001b[0m\u001b[0;34m,\u001b[0m\u001b[0mlen\u001b[0m\u001b[0;34m(\u001b[0m\u001b[0mnum_txt\u001b[0m\u001b[0;34m)\u001b[0m\u001b[0;34m)\u001b[0m\u001b[0;34m:\u001b[0m\u001b[0;34m\u001b[0m\u001b[0;34m\u001b[0m\u001b[0m\n\u001b[1;32m      4\u001b[0m         \u001b[0;32mfor\u001b[0m \u001b[0mj\u001b[0m \u001b[0;32min\u001b[0m \u001b[0mrange\u001b[0m\u001b[0;34m(\u001b[0m\u001b[0mInteger\u001b[0m\u001b[0;34m(\u001b[0m\u001b[0;36m0\u001b[0m\u001b[0;34m)\u001b[0m\u001b[0;34m,\u001b[0m\u001b[0mlen\u001b[0m\u001b[0;34m(\u001b[0m\u001b[0ma\u001b[0m\u001b[0;34m)\u001b[0m\u001b[0;34m)\u001b[0m\u001b[0;34m:\u001b[0m\u001b[0;34m\u001b[0m\u001b[0;34m\u001b[0m\u001b[0m\n\u001b[0;32m----> 5\u001b[0;31m             \u001b[0;32mif\u001b[0m\u001b[0;34m(\u001b[0m\u001b[0mnum_txt\u001b[0m\u001b[0;34m[\u001b[0m\u001b[0mi\u001b[0m\u001b[0;34m]\u001b[0m\u001b[0;34m==\u001b[0m\u001b[0mj\u001b[0m\u001b[0;34m)\u001b[0m\u001b[0;34m:\u001b[0m\u001b[0;34m\u001b[0m\u001b[0;34m\u001b[0m\u001b[0m\n\u001b[0m\u001b[1;32m      6\u001b[0m                 \u001b[0mcrypted_text\u001b[0m\u001b[0;34m.\u001b[0m\u001b[0mappend\u001b[0m\u001b[0;34m(\u001b[0m\u001b[0ma\u001b[0m\u001b[0;34m[\u001b[0m\u001b[0mj\u001b[0m\u001b[0;34m]\u001b[0m\u001b[0;34m)\u001b[0m\u001b[0;34m\u001b[0m\u001b[0;34m\u001b[0m\u001b[0m\n",
      "\u001b[0;31mValueError\u001b[0m: The truth value of an array with more than one element is ambiguous. Use a.any() or a.all()"
     ]
    }
   ],
   "source": [
    "#making the crypted text to crypted_text\n",
    "crypted_text=list()\n",
    "number_to_char(num_txt,a,crypted_text)"
   ]
  },
  {
   "cell_type": "code",
   "execution_count": 15,
   "metadata": {},
   "outputs": [],
   "source": [
    "#converting cypher text list to string\n",
    "cipher_txt=str()\n",
    "cipher_txt=cipher_txt.join(crypted_text)"
   ]
  },
  {
   "cell_type": "code",
   "execution_count": 16,
   "metadata": {},
   "outputs": [
    {
     "data": {
      "text/plain": [
       "387"
      ]
     },
     "execution_count": 16,
     "metadata": {},
     "output_type": "execute_result"
    }
   ],
   "source": [
    "#writing the cipher text to output.txt\n",
    "fl=open(\"output.txt\",\"w\")\n",
    "fl.write(cipher_txt)"
   ]
  },
  {
   "cell_type": "code",
   "execution_count": 17,
   "metadata": {},
   "outputs": [],
   "source": [
    "#finally close the opened files\n",
    "fl.close()\n",
    "IN.close()"
   ]
  },
  {
   "cell_type": "markdown",
   "metadata": {},
   "source": [
    "\n",
    "                                        DECRYPTION\n",
    "                                        "
   ]
  },
  {
   "cell_type": "code",
   "execution_count": 113,
   "metadata": {},
   "outputs": [],
   "source": [
    "#importing library numpy for matrix manipulation\n",
    "import numpy as np"
   ]
  },
  {
   "cell_type": "code",
   "execution_count": 114,
   "metadata": {},
   "outputs": [],
   "source": [
    "#reading encrypted text from output text document to crypted_text as string.\n",
    "IN=open(\"output.txt\",\"r\")\n",
    "crypted_text=IN.read()"
   ]
  },
  {
   "cell_type": "code",
   "execution_count": 115,
   "metadata": {},
   "outputs": [],
   "source": [
    "#initialising all characters and converting crypted text to list of characters.\n",
    "a=[\"A\",\"B\",\"C\",\"D\",\"E\",\"F\",\"G\",\"H\",\"I\",\"J\",\"K\",\"L\",\"M\",\"N\",\"O\",\"P\",\"Q\",\"R\",\"S\",\"T\",\"U\",\"V\",\"W\",\"X\",\"Y\",\"Z\"]\n",
    "crypted_text=crypted_text.upper()\n",
    "list_crypted_text=list(crypted_text)"
   ]
  },
  {
   "cell_type": "code",
   "execution_count": 116,
   "metadata": {},
   "outputs": [],
   "source": [
    "#function number a text according to its corresponing alphabet.\n",
    "def char_to_number(b_text,a,num_txt):\n",
    "    for i in range(0,len(b_text)):\n",
    "        for j in range(0,len(a)):\n",
    "            if b_text[i]==a[j]:\n",
    "                num_txt.append(j)"
   ]
  },
  {
   "cell_type": "code",
   "execution_count": 117,
   "metadata": {},
   "outputs": [],
   "source": [
    "#making the list with number intendation to characters in num_txt\n",
    "num_txt=list()\n",
    "char_to_number(list_crypted_text,a,num_txt)"
   ]
  },
  {
   "cell_type": "code",
   "execution_count": 118,
   "metadata": {},
   "outputs": [],
   "source": [
    "#finding column length\n",
    "if length<4:\n",
    "    column=length\n",
    "else:\n",
    "    column=4"
   ]
  },
  {
   "cell_type": "code",
   "execution_count": 119,
   "metadata": {},
   "outputs": [],
   "source": [
    "#finding the number of rows required for the matrix of given column\n",
    "row=(len(num_txt))%column\n",
    "if row==0:\n",
    "    row=(int)(len(num_txt))/column\n",
    "else:\n",
    "    row=(int)((len(num_txt))/column)+1"
   ]
  },
  {
   "cell_type": "code",
   "execution_count": 120,
   "metadata": {},
   "outputs": [],
   "source": [
    "#defining keymatrix and crypted text matrix with default values\n",
    "matkey=[[0 for i in range(column)] for j in range(column)]\n",
    "matcrypt=[[25 for i in range(column)] for j in range(row)]"
   ]
  },
  {
   "cell_type": "code",
   "execution_count": 121,
   "metadata": {},
   "outputs": [],
   "source": [
    "#setting values for matrix\n",
    "if column==1:\n",
    "    matkey=[[9]]\n",
    "elif column==2:\n",
    "    matkey=[[9,7],[4,7]]\n",
    "elif column==3:\n",
    "    matkey=[[9,7,11],[4,7,5],[2,21,14]]\n",
    "else:\n",
    "    matkey=[[9,7,11,13],[4,7,5,6],[2,21,14,9],[3,23,21,8]]"
   ]
  },
  {
   "cell_type": "code",
   "execution_count": 122,
   "metadata": {},
   "outputs": [],
   "source": [
    "#assigning values to the matrix of crypted text from the crypted text list\n",
    "k=0\n",
    "for i in range(row):\n",
    "    for j in range(column):\n",
    "        if(k<len(num_txt)):\n",
    "            matcrypt[i][j]=num_txt[k]\n",
    "            k=k+1"
   ]
  },
  {
   "cell_type": "code",
   "execution_count": 123,
   "metadata": {},
   "outputs": [],
   "source": [
    "matkey=Matrix(IntegerModRing(26),matkey).inverse()"
   ]
  },
  {
   "cell_type": "code",
   "execution_count": 124,
   "metadata": {},
   "outputs": [],
   "source": [
    "#decrypting using matrix multiplication using crypted text matrix and key matrix\n",
    "finalmat=np.dot(matcrypt,matkey)"
   ]
  },
  {
   "cell_type": "code",
   "execution_count": 125,
   "metadata": {},
   "outputs": [],
   "source": [
    "#changing the decrypted matrix to plain list\n",
    "k=0\n",
    "for i in range(row):\n",
    "    for j in range(column):\n",
    "        if(k<len(num_txt)):\n",
    "            num_txt[k]=finalmat[i][j]\n",
    "            k=k+1\n",
    "        else:\n",
    "            num_txt.append(finalmat[i][j])"
   ]
  },
  {
   "cell_type": "code",
   "execution_count": 126,
   "metadata": {},
   "outputs": [],
   "source": [
    "#function to make alphabets according to its corresponding number.\n",
    "def number_to_char(num_txt,a,crypted_text):\n",
    "    for i in range(0,len(num_txt)):\n",
    "        for j in range(0,len(a)):\n",
    "            if(num_txt[i]==j):\n",
    "                crypted_text.append(a[j])"
   ]
  },
  {
   "cell_type": "code",
   "execution_count": 127,
   "metadata": {},
   "outputs": [],
   "source": [
    "#making the plain text to plain_text list\n",
    "plain_text=list()\n",
    "number_to_char(num_txt,a,plain_text)"
   ]
  },
  {
   "cell_type": "code",
   "execution_count": 128,
   "metadata": {},
   "outputs": [],
   "source": [
    "#converting plain text list to string\n",
    "plain_text=plain_text[:length]\n",
    "plain_txt=str()\n",
    "plain_txt=plain_txt.join(plain_text)"
   ]
  },
  {
   "cell_type": "code",
   "execution_count": 129,
   "metadata": {},
   "outputs": [
    {
     "data": {
      "text/plain": [
       "11"
      ]
     },
     "execution_count": 129,
     "metadata": {},
     "output_type": "execute_result"
    }
   ],
   "source": [
    "#writing the plain text to input.txt\n",
    "fl=open(\"input.txt\",\"w\")\n",
    "fl.write(plain_txt)"
   ]
  },
  {
   "cell_type": "code",
   "execution_count": 130,
   "metadata": {},
   "outputs": [],
   "source": [
    "#finally close the opened files\n",
    "fl.close()\n",
    "IN.close()"
   ]
  },
  {
   "cell_type": "code",
   "execution_count": null,
   "metadata": {},
   "outputs": [],
   "source": []
  }
 ],
 "metadata": {
  "kernelspec": {
   "display_name": "SageMath 9.1",
   "language": "sage",
   "name": "sagemath"
  },
  "language_info": {
   "codemirror_mode": {
    "name": "ipython",
    "version": 3
   },
   "file_extension": ".py",
   "mimetype": "text/x-python",
   "name": "python",
   "nbconvert_exporter": "python",
   "pygments_lexer": "ipython3",
   "version": "3.7.3"
  }
 },
 "nbformat": 4,
 "nbformat_minor": 2
}
