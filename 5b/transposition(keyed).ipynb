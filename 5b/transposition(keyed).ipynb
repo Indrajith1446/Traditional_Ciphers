{
 "cells": [
  {
   "cell_type": "markdown",
   "metadata": {},
   "source": [
    "\n",
    "                                                ENCRYPTION\n"
   ]
  },
  {
   "cell_type": "code",
   "execution_count": 65,
   "metadata": {},
   "outputs": [],
   "source": [
    "#importing library numpy for matrix manipulation\n",
    "import numpy as np"
   ]
  },
  {
   "cell_type": "code",
   "execution_count": 66,
   "metadata": {},
   "outputs": [],
   "source": [
    "#reading plain text from input text document to plain_text as string.\n",
    "IN=open(\"input.txt\",\"r\")\n",
    "plain_text=IN.read()"
   ]
  },
  {
   "cell_type": "code",
   "execution_count": 67,
   "metadata": {},
   "outputs": [],
   "source": [
    "#initialising all characters and converting plaintext to list of characters.\n",
    "a=[\"A\",\"B\",\"C\",\"D\",\"E\",\"F\",\"G\",\"H\",\"I\",\"J\",\"K\",\"L\",\"M\",\"N\",\"O\",\"P\",\"Q\",\"R\",\"S\",\"T\",\"U\",\"V\",\"W\",\"X\",\"Y\",\"Z\"]\n",
    "column=5\n",
    "key=[3,2,4,5,1]\n",
    "plain_text=plain_text.upper()\n",
    "list_plain_text=list(plain_text)"
   ]
  },
  {
   "cell_type": "code",
   "execution_count": 68,
   "metadata": {},
   "outputs": [],
   "source": [
    "#function number a text according to its corresponing alphabet.\n",
    "def char_to_number(b_text,a,num_txt):\n",
    "    for i in range(0,len(list_plain_text)):\n",
    "        for j in range(0,len(a)):\n",
    "            if b_text[i]==a[j]:\n",
    "                num_txt.append(j)"
   ]
  },
  {
   "cell_type": "code",
   "execution_count": 69,
   "metadata": {},
   "outputs": [],
   "source": [
    "#making the list with number intendation to characters in num_txt\n",
    "num_txt=list()\n",
    "char_to_number(list_plain_text,a,num_txt)\n",
    "length=len(num_txt)"
   ]
  },
  {
   "cell_type": "code",
   "execution_count": 70,
   "metadata": {},
   "outputs": [],
   "source": [
    "#finding the number of rows required for the matrix of given column\n",
    "row=(len(num_txt))%column\n",
    "if row==0:\n",
    "    row=(int)(len(num_txt))/column\n",
    "else:\n",
    "    row=(int)((len(num_txt))/column)+1"
   ]
  },
  {
   "cell_type": "code",
   "execution_count": 71,
   "metadata": {},
   "outputs": [],
   "source": [
    "#defining keymatrix and plaintext matrix with default values\n",
    "matkey=[[0 for i in range(column)] for j in range(column)]\n",
    "matplain=[[25 for i in range(column)] for j in range(row)]"
   ]
  },
  {
   "cell_type": "code",
   "execution_count": 72,
   "metadata": {},
   "outputs": [],
   "source": [
    "#setting values for matrix corresponding to the key to form the key matrix\n",
    "for i in range(column):\n",
    "    for j in range(column):\n",
    "        if key[j]==i+1:\n",
    "            matkey[i][j]=1"
   ]
  },
  {
   "cell_type": "code",
   "execution_count": 73,
   "metadata": {},
   "outputs": [],
   "source": [
    "#assigning values to the matrix of plain text from the plain text list\n",
    "k=0\n",
    "for i in range(row):\n",
    "    for j in range(column):\n",
    "        if(k<len(num_txt)):\n",
    "            matplain[i][j]=num_txt[k]\n",
    "            k=k+1"
   ]
  },
  {
   "cell_type": "code",
   "execution_count": 74,
   "metadata": {},
   "outputs": [],
   "source": [
    "#encrypting using matrix multiplication using plain text matrix and key matrix\n",
    "finalmat=np.dot(matplain,matkey)"
   ]
  },
  {
   "cell_type": "code",
   "execution_count": 75,
   "metadata": {},
   "outputs": [],
   "source": [
    "#changing the encrypted matrix to encrypted list\n",
    "k=0\n",
    "for i in range(column):\n",
    "    for j in range(row):\n",
    "        if(k<len(num_txt)):\n",
    "            num_txt[k]=finalmat[j][i]\n",
    "            k=k+1\n",
    "        else:\n",
    "            num_txt.append(finalmat[j][i])"
   ]
  },
  {
   "cell_type": "code",
   "execution_count": 76,
   "metadata": {},
   "outputs": [],
   "source": [
    "#function to make alphabets according to its corresponding number.\n",
    "def number_to_char(num_txt,a,crypted_text):\n",
    "    for i in range(0,len(num_txt)):\n",
    "        for j in range(0,len(a)):\n",
    "            if(num_txt[i]==j):\n",
    "                crypted_text.append(a[j])"
   ]
  },
  {
   "cell_type": "code",
   "execution_count": 77,
   "metadata": {},
   "outputs": [],
   "source": [
    "#making the crypted text to crypted_text\n",
    "crypted_text=list()\n",
    "number_to_char(num_txt,a,crypted_text)"
   ]
  },
  {
   "cell_type": "code",
   "execution_count": 78,
   "metadata": {},
   "outputs": [],
   "source": [
    "#converting cypher text list to string\n",
    "cipher_txt=str()\n",
    "cipher_txt=cipher_txt.join(crypted_text)"
   ]
  },
  {
   "cell_type": "code",
   "execution_count": 79,
   "metadata": {},
   "outputs": [
    {
     "data": {
      "text/plain": [
       "385"
      ]
     },
     "execution_count": 79,
     "metadata": {},
     "output_type": "execute_result"
    }
   ],
   "source": [
    "#writing the cipher text to output.txt\n",
    "fl=open(\"output.txt\",\"w\")\n",
    "fl.write(cipher_txt)"
   ]
  },
  {
   "cell_type": "code",
   "execution_count": 80,
   "metadata": {},
   "outputs": [],
   "source": [
    "#finally close the opened files\n",
    "fl.close()\n",
    "IN.close()"
   ]
  },
  {
   "cell_type": "markdown",
   "metadata": {},
   "source": [
    "\n",
    "                                                DECRYPTION\n"
   ]
  },
  {
   "cell_type": "code",
   "execution_count": 17,
   "metadata": {},
   "outputs": [],
   "source": [
    "#importing library numpy for matrix manipulation\n",
    "import numpy as np"
   ]
  },
  {
   "cell_type": "code",
   "execution_count": 18,
   "metadata": {},
   "outputs": [],
   "source": [
    "#reading encrypted text from output text document to crypted_text as string.\n",
    "IN=open(\"output.txt\",\"r\")\n",
    "crypted_text=IN.read()"
   ]
  },
  {
   "cell_type": "code",
   "execution_count": 19,
   "metadata": {},
   "outputs": [],
   "source": [
    "#initialising all characters and converting crypted text to list of characters.\n",
    "a=[\"A\",\"B\",\"C\",\"D\",\"E\",\"F\",\"G\",\"H\",\"I\",\"J\",\"K\",\"L\",\"M\",\"N\",\"O\",\"P\",\"Q\",\"R\",\"S\",\"T\",\"U\",\"V\",\"W\",\"X\",\"Y\",\"Z\"]\n",
    "column=5\n",
    "keyinv=[3,2,4,5,1]\n",
    "crypted_text=crypted_text.upper()\n",
    "list_crypted_text=list(crypted_text)"
   ]
  },
  {
   "cell_type": "code",
   "execution_count": 20,
   "metadata": {},
   "outputs": [],
   "source": [
    "#finding inverse for the key  \n",
    "key=keyinv.copy()\n",
    "for i in range(len(keyinv)):\n",
    "    key[keyinv[i]-1]=i+1"
   ]
  },
  {
   "cell_type": "code",
   "execution_count": 21,
   "metadata": {},
   "outputs": [],
   "source": [
    "#function number a text according to its corresponing alphabet.\n",
    "def char_to_number(b_text,a,num_txt):\n",
    "    for i in range(0,len(b_text)):\n",
    "        for j in range(0,len(a)):\n",
    "            if b_text[i]==a[j]:\n",
    "                num_txt.append(j)"
   ]
  },
  {
   "cell_type": "code",
   "execution_count": 22,
   "metadata": {},
   "outputs": [],
   "source": [
    "#making the list with number intendation to characters in num_txt\n",
    "num_txt=list()\n",
    "char_to_number(list_crypted_text,a,num_txt)"
   ]
  },
  {
   "cell_type": "code",
   "execution_count": 23,
   "metadata": {},
   "outputs": [],
   "source": [
    "#finding the number of rows required for the matrix of given column\n",
    "row=(len(num_txt))%column\n",
    "if row==0:\n",
    "    row=(int)(len(num_txt))/column\n",
    "else:\n",
    "    row=(int)((len(num_txt))/column)+1"
   ]
  },
  {
   "cell_type": "code",
   "execution_count": 24,
   "metadata": {},
   "outputs": [],
   "source": [
    "#defining keymatrix and crypted text matrix with default values\n",
    "matkey=[[0 for i in range(column)] for j in range(column)]\n",
    "matcrypt=[[25 for i in range(column)] for j in range(row)]"
   ]
  },
  {
   "cell_type": "code",
   "execution_count": 25,
   "metadata": {},
   "outputs": [],
   "source": [
    "#setting values for matrix corresponding to the key to form the key matrix\n",
    "for i in range(column):\n",
    "    for j in range(column):\n",
    "        if key[j]==i+1:\n",
    "            matkey[i][j]=1"
   ]
  },
  {
   "cell_type": "code",
   "execution_count": 26,
   "metadata": {},
   "outputs": [],
   "source": [
    "#assigning values to the matrix of crypted text from the crypted text list\n",
    "k=0\n",
    "for i in range(column):\n",
    "    for j in range(row):\n",
    "        if(k<len(num_txt)):\n",
    "            matcrypt[j][i]=num_txt[k]\n",
    "            k=k+1"
   ]
  },
  {
   "cell_type": "code",
   "execution_count": 27,
   "metadata": {},
   "outputs": [],
   "source": [
    "#decrypting using matrix multiplication using crypted text matrix and key matrix\n",
    "finalmat=np.dot(matcrypt,matkey)"
   ]
  },
  {
   "cell_type": "code",
   "execution_count": 28,
   "metadata": {},
   "outputs": [],
   "source": [
    "#changing the decrypted matrix to plain list\n",
    "k=0\n",
    "for i in range(row):\n",
    "    for j in range(column):\n",
    "        if(k<len(num_txt)):\n",
    "            num_txt[k]=finalmat[i][j]\n",
    "            k=k+1\n",
    "        else:\n",
    "            num_txt.append(finalmat[i][j])"
   ]
  },
  {
   "cell_type": "code",
   "execution_count": 29,
   "metadata": {},
   "outputs": [],
   "source": [
    "#function to make alphabets according to its corresponding number.\n",
    "def number_to_char(num_txt,a,crypted_text):\n",
    "    for i in range(0,len(num_txt)):\n",
    "        for j in range(0,len(a)):\n",
    "            if(num_txt[i]==j):\n",
    "                crypted_text.append(a[j])"
   ]
  },
  {
   "cell_type": "code",
   "execution_count": 30,
   "metadata": {},
   "outputs": [],
   "source": [
    "#making the plain text to plain_text list\n",
    "plain_text=list()\n",
    "number_to_char(num_txt,a,plain_text)"
   ]
  },
  {
   "cell_type": "code",
   "execution_count": 31,
   "metadata": {},
   "outputs": [],
   "source": [
    "#converting plain text list to string\n",
    "plain_text=plain_text[:length]\n",
    "plain_txt=str()\n",
    "plain_txt=plain_txt.join(plain_text)"
   ]
  },
  {
   "cell_type": "code",
   "execution_count": 32,
   "metadata": {},
   "outputs": [
    {
     "data": {
      "text/plain": [
       "19"
      ]
     },
     "execution_count": 32,
     "metadata": {},
     "output_type": "execute_result"
    }
   ],
   "source": [
    "#writing the plain text to input.txt\n",
    "fl=open(\"input.txt\",\"w\")\n",
    "fl.write(plain_txt)"
   ]
  },
  {
   "cell_type": "code",
   "execution_count": 33,
   "metadata": {},
   "outputs": [],
   "source": [
    "#finally close the opened files\n",
    "fl.close()\n",
    "IN.close()"
   ]
  },
  {
   "cell_type": "code",
   "execution_count": null,
   "metadata": {},
   "outputs": [],
   "source": []
  },
  {
   "cell_type": "code",
   "execution_count": null,
   "metadata": {},
   "outputs": [],
   "source": []
  },
  {
   "cell_type": "code",
   "execution_count": null,
   "metadata": {},
   "outputs": [],
   "source": []
  },
  {
   "cell_type": "code",
   "execution_count": null,
   "metadata": {},
   "outputs": [],
   "source": []
  },
  {
   "cell_type": "code",
   "execution_count": null,
   "metadata": {},
   "outputs": [],
   "source": []
  }
 ],
 "metadata": {
  "kernelspec": {
   "display_name": "SageMath 9.1",
   "language": "sage",
   "name": "sagemath"
  },
  "language_info": {
   "codemirror_mode": {
    "name": "ipython",
    "version": 3
   },
   "file_extension": ".py",
   "mimetype": "text/x-python",
   "name": "python",
   "nbconvert_exporter": "python",
   "pygments_lexer": "ipython3",
   "version": "3.7.3"
  }
 },
 "nbformat": 4,
 "nbformat_minor": 2
}
