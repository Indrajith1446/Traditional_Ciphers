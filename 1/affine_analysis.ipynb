{
 "cells": [
  {
   "cell_type": "markdown",
   "metadata": {},
   "source": [
    "CRYPTANALYSIS OF AFFINE CIPHER\n",
    "\n",
    "Affine cipher is where encryption occours as c=(pk1+k2)mod 26 and decryption occours as p=(c(k1^-1)-k2)mod 26.\n",
    "The first key should be invertible in mod 26 so it has a key domain of 12 while the second key has a domain of 26. Different cryptanalysrs methods for finding the keys are :-"
   ]
  },
  {
   "cell_type": "markdown",
   "metadata": {},
   "source": [
    "\n",
    "    METHOD 1 : CIPHER TEXT ONLY ATTACK\n",
    "    \n",
    "    This is where adversary or eve has only access to one or more encrypted texts only . It is assumed that eve knows how the \n",
    "    decrypton works according to the key of her choosing . "
   ]
  },
  {
   "cell_type": "code",
   "execution_count": 13,
   "metadata": {},
   "outputs": [],
   "source": [
    "def decrypt(crypted_text,key_1,key_2):\n",
    "    #initialising all characters and converting cryptedtext to list of characters.\n",
    "    a=[\"A\",\"B\",\"C\",\"D\",\"E\",\"F\",\"G\",\"H\",\"I\",\"J\",\"K\",\"L\",\"M\",\"N\",\"O\",\"P\",\"Q\",\"R\",\"S\",\"T\",\"U\",\"V\",\"W\",\"X\",\"Y\",\"Z\"]\n",
    "    crypted_text=crypted_text.upper()\n",
    "    list_crypted_text=list(crypted_text)\n",
    "    #function number a text according to its corresponing alphabet.\n",
    "    def char_to_number(b_text,a,num_txt):\n",
    "        for i in range(0,len(list_crypted_text)):\n",
    "            for j in range(0,len(a)):\n",
    "                if b_text[i]==a[j]:\n",
    "                    num_txt.append(j)\n",
    "    #making the list with number intendation to characters in num_txt\n",
    "    num_txt=list()\n",
    "    char_to_number(list_crypted_text,a,num_txt)\n",
    "    #function to convert plain num to plain number using c=(p-key) mod 26  .\n",
    "    def decrypt_(num_txt,k1,k2):\n",
    "        for i in range(0,len(num_txt)):\n",
    "            num_txt[i]=((num_txt[i]-k2)*k1)%26\n",
    "    #changing plain number list to decrypted number list\n",
    "    decrypt_(num_txt,key_1,key_2)\n",
    "    #function to make alphabets according to its corresponding number.\n",
    "    def number_to_char(num_txt,a,plain_text):\n",
    "        for i in range(0,len(num_txt)):\n",
    "            for j in range(0,len(a)):\n",
    "                if(num_txt[i]==j):\n",
    "                    plain_text.append(a[j])\n",
    "    #making the decrypted text to plain_text\n",
    "    plain_text=list()\n",
    "    number_to_char(num_txt,a,plain_text)\n",
    "    #converting plain text list to string\n",
    "    plain_txt=str()\n",
    "    plain_txt=plain_txt.join(plain_text)\n",
    "    #writing the plain text to input.txt\n",
    "    fl=open(\"input.txt\",\"w\")\n",
    "    fl.write(plain_txt)\n",
    "    #finally close the opened files\n",
    "    fl.close()\n",
    "    IN.close()\n",
    "    #this could be considered as a filter as we expect the plain text to begin with 'the'.\n",
    "    if(plain_txt[0]==\"T\"):\n",
    "        print(plain_txt)"
   ]
  },
  {
   "cell_type": "markdown",
   "metadata": {},
   "source": [
    "     Brute Force Attack: Here all the possible combinatons of the key1 and key2 is passed to the decryprer that she has \n",
    "                         along with the encrypted texts that she obtained until the plain text makes sense."
   ]
  },
  {
   "cell_type": "code",
   "execution_count": 14,
   "metadata": {},
   "outputs": [],
   "source": [
    "#reading encryped text from input text document to crypted_text as string.\n",
    "IN=open(\"output.txt\",\"r\")\n",
    "crypted_text=IN.read()"
   ]
  },
  {
   "cell_type": "code",
   "execution_count": 15,
   "metadata": {},
   "outputs": [
    {
     "name": "stdout",
     "output_type": "stream",
     "text": [
      "TNSQTTQEIUMGKUDGTKNQRRSDTKDUGNTRSKRPSXSRFSRQFSL\n",
      "TBQKTTKAMWYGSWXGTSBKNNQXTSXWGBTNQSNHQFQNDQNKDQV\n",
      "TPOETTEWQYKGAYRGTAPEJJORTARYGPTJOAJZONOJBOJEBOF\n",
      "TDMYTTYSUAWGIALGTIDYFFMLTILAGDTFMIFRMVMFZMFYZMP\n",
      "TRKSTTSOYCIGQCFGTQRSBBKFTQFCGRTBKQBJKDKBXKBSXKZ\n",
      "TFIMTTMKCEUGYEZGTYFMXXIZTYZEGFTXIYXBILIXVIXMVIJ\n",
      "THEATTACKISGOINGTOHAPPENTONIGHTPEOPLEBEPREPARED\n",
      "TVCUTTUYOKEGWKHGTWVULLCHTWHKGVTLCWLDCJCLPCLUPCN\n",
      "TJAOTTOUSMQGEMBGTEJOHHABTEBMGJTHAEHVARAHNAHONAX\n",
      "TXYITTIQWOCGMOVGTMXIDDYVTMVOGXTDYMDNYZYDLYDILYH\n",
      "TLWCTTCMAQOGUQPGTULCZZWPTUPQGLTZWUZFWHWZJWZCJWR\n",
      "TZUWTTWIESAGCSJGTCZWVVUJTCJSGZTVUCVXUPUVHUVWHUB\n"
     ]
    }
   ],
   "source": [
    "#trying out all the possible keys\n",
    "key1_d=[1, 3, 5, 7, 9, 11, 15, 17, 19, 21, 23, 25]\n",
    "for i in range(len(key1_d)):\n",
    "    for j in range(26):\n",
    "        decrypt(crypted_text,key1_d[i],j)"
   ]
  },
  {
   "cell_type": "markdown",
   "metadata": {},
   "source": [
    "Here dictionary attack would be of less use as since the first key is getting multiplied even if we find frequency of one character we have to run brute force attack again since its combination of keys"
   ]
  },
  {
   "cell_type": "code",
   "execution_count": null,
   "metadata": {},
   "outputs": [],
   "source": [
    "    "
   ]
  }
 ],
 "metadata": {
  "kernelspec": {
   "display_name": "SageMath 9.1",
   "language": "sage",
   "name": "sagemath"
  },
  "language_info": {
   "codemirror_mode": {
    "name": "ipython",
    "version": 3
   },
   "file_extension": ".py",
   "mimetype": "text/x-python",
   "name": "python",
   "nbconvert_exporter": "python",
   "pygments_lexer": "ipython3",
   "version": "3.7.3"
  }
 },
 "nbformat": 4,
 "nbformat_minor": 2
}
