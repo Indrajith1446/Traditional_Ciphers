{
 "cells": [
  {
   "cell_type": "markdown",
   "metadata": {},
   "source": [
    "CRYPTANALYSIS OF SHIFT CIPHER\n",
    "\n",
    "\n",
    "A shift cipher is one which shifts the whole domain depending on the key provided.Its encryption\n",
    "is c=(p+k)mod 26 and decryption is p=(c-k)mod 26 \n",
    "Cryptanalysis is the art of finding the secret key shared between the sender and the receiver.\n",
    "The four methods are:-\n",
    "\n"
   ]
  },
  {
   "cell_type": "markdown",
   "metadata": {},
   "source": [
    "    METHOD 1 : CYPHER TEXT ONLY ATTACK\n",
    "    \n",
    "    This is where the adversary has only one or a few cypher texts with her and then since the algorithms are made public\n",
    "    she does analysis on the cypher text to find the key.\n",
    "    \n",
    "    There are even few different methods in this.\n",
    "    \n",
    "        Type 1 : Brute Force Attack - Here we are trying out every possible pair of keys to findout what output makes sense\n",
    "    "
   ]
  },
  {
   "cell_type": "code",
   "execution_count": 13,
   "metadata": {},
   "outputs": [],
   "source": [
    "def decrypt(crypted_text,key):\n",
    "#initialising all characters and converting cryptedtext to list of characters.\n",
    "    a=[\"A\",\"B\",\"C\",\"D\",\"E\",\"F\",\"G\",\"H\",\"I\",\"J\",\"K\",\"L\",\"M\",\"N\",\"O\",\"P\",\"Q\",\"R\",\"S\",\"T\",\"U\",\"V\",\"W\",\"X\",\"Y\",\"Z\"]\n",
    "    crypted_text=crypted_text.upper()\n",
    "    list_crypted_text=list(crypted_text)\n",
    "#function number a text according to its corresponing alphabet.\n",
    "    def char_to_number(b_text,a,num_txt):\n",
    "        for i in range(0,len(list_crypted_text)):\n",
    "            for j in range(0,len(a)):\n",
    "                if b_text[i]==a[j]:\n",
    "                    num_txt.append(j)\n",
    "#making the list with number intendation to characters in num_txt\n",
    "    num_txt=list()\n",
    "    char_to_number(list_crypted_text,a,num_txt)\n",
    "#function to convert plain num to plain number using c=(p-key) mod 26  .\n",
    "    def decrypt_(num_txt,key):\n",
    "        for i in range(0,len(num_txt)):\n",
    "            num_txt[i]=(num_txt[i]-key)%26\n",
    "#changing plain number list to decrypted number list\n",
    "    decrypt_(num_txt,key)\n",
    "#function to make alphabets according to its corresponding number.\n",
    "    def number_to_char(num_txt,a,plain_text):\n",
    "        for i in range(0,len(num_txt)):\n",
    "            for j in range(0,len(a)):\n",
    "                if(num_txt[i]==j):\n",
    "                    plain_text.append(a[j])\n",
    "#making the decrypted text to plain_text\n",
    "    plain_text=list()\n",
    "    number_to_char(num_txt,a,plain_text)\n",
    "#converting plain text list to string\n",
    "    plain_txt=str()\n",
    "    plain_txt=plain_txt.join(plain_text)\n",
    "#writing the plain text to input.txt\n",
    "    fl=open(\"input.txt\",\"w\")\n",
    "    fl.write(plain_txt)\n",
    "    print(plain_txt)\n",
    "#finally close the opened files\n",
    "    fl.close()\n",
    "    IN.close()"
   ]
  },
  {
   "cell_type": "code",
   "execution_count": 42,
   "metadata": {},
   "outputs": [
    {
     "name": "stdout",
     "output_type": "stream",
     "text": [
      "Enter y for next key if the plain text doesnt make sense.Else press ny\n",
      "PQRST\n",
      "Enter y for next key if the plain text doesnt make sense.Else press ny\n",
      "OPQRS\n",
      "Enter y for next key if the plain text doesnt make sense.Else press ny\n",
      "NOPQR\n",
      "Enter y for next key if the plain text doesnt make sense.Else press ny\n",
      "MNOPQ\n",
      "Enter y for next key if the plain text doesnt make sense.Else press ny\n",
      "LMNOP\n",
      "Enter y for next key if the plain text doesnt make sense.Else press ny\n",
      "KLMNO\n",
      "Enter y for next key if the plain text doesnt make sense.Else press ny\n",
      "JKLMN\n",
      "Enter y for next key if the plain text doesnt make sense.Else press ny\n",
      "IJKLM\n",
      "Enter y for next key if the plain text doesnt make sense.Else press ny\n",
      "HIJKL\n",
      "Enter y for next key if the plain text doesnt make sense.Else press ny\n",
      "GHIJK\n",
      "Enter y for next key if the plain text doesnt make sense.Else press ny\n",
      "FGHIJ\n",
      "Enter y for next key if the plain text doesnt make sense.Else press ny\n",
      "EFGHI\n",
      "Enter y for next key if the plain text doesnt make sense.Else press ny\n",
      "DEFGH\n",
      "Enter y for next key if the plain text doesnt make sense.Else press ny\n",
      "CDEFG\n",
      "Enter y for next key if the plain text doesnt make sense.Else press ny\n",
      "BCDEF\n",
      "Enter y for next key if the plain text doesnt make sense.Else press ny\n",
      "ABCDE\n",
      "Enter y for next key if the plain text doesnt make sense.Else press nn\n",
      "15 is the key\n"
     ]
    }
   ],
   "source": [
    "#reading encryped text from input text document to crypted_text as string.Here we can print all the possible outputs here as\n",
    "#the key domain is too small.\n",
    "IN=open(\"output.txt\",\"r\")\n",
    "crypted_text=IN.read()\n",
    "i=1;\n",
    "for i in range(26):\n",
    "    choice=input(\"Enter y for next key if the plain text doesnt make sense.Else press n\")\n",
    "    if(choice=='y'):\n",
    "        decrypt(crypted_text,i)\n",
    "    elif(choice=='n'):\n",
    "        i=i-1\n",
    "        break\n",
    "    i=i+1\n",
    "print(\"{} is the key\".format(i))"
   ]
  },
  {
   "cell_type": "code",
   "execution_count": 15,
   "metadata": {},
   "outputs": [],
   "source": [
    "#This is alices encrypting machine with key shared with bob fixed\n",
    "def Alices_machine(plain_text):\n",
    "    #initialising all characters and converting plaintext to list of characters.\n",
    "    a=[\"A\",\"B\",\"C\",\"D\",\"E\",\"F\",\"G\",\"H\",\"I\",\"J\",\"K\",\"L\",\"M\",\"N\",\"O\",\"P\",\"Q\",\"R\",\"S\",\"T\",\"U\",\"V\",\"W\",\"X\",\"Y\",\"Z\"]\n",
    "    key=15\n",
    "    plain_text=plain_text.upper()\n",
    "    list_plain_text=list(plain_text)\n",
    "    #function number a text according to its corresponing alphabet.\n",
    "    def char_to_number(b_text,a,num_txt):\n",
    "        for i in range(0,len(list_plain_text)):\n",
    "            for j in range(0,len(a)):\n",
    "                if b_text[i]==a[j]:\n",
    "                    num_txt.append(j)\n",
    "    #making the list with number intendation to characters in num_txt\n",
    "    num_txt=list()\n",
    "    char_to_number(list_plain_text,a,num_txt)\n",
    "    #function to convert plain num to encrypted number using c=(p+key) mod 26  .\n",
    "    def encrypt_(num_txt,key):\n",
    "        for i in range(0,len(num_txt)):\n",
    "            num_txt[i]=(num_txt[i]+key)%26\n",
    "    #changing plain number list to encrypted number list\n",
    "    encrypt_(num_txt,key)\n",
    "    #function to make alphabets according to its corresponding number.\n",
    "    def number_to_char(num_txt,a,crypted_text):\n",
    "        for i in range(0,len(num_txt)):\n",
    "            for j in range(0,len(a)):\n",
    "                if(num_txt[i]==j):\n",
    "                    crypted_text.append(a[j])\n",
    "    #making the crypted text to crypted_text\n",
    "    crypted_text=list()\n",
    "    number_to_char(num_txt,a,crypted_text)\n",
    "    #converting cypher text list to string\n",
    "    cipher_txt=str()\n",
    "    cipher_txt=cipher_txt.join(crypted_text)\n",
    "    #writing the cipher text to output.txt\n",
    "    fl=open(\"output.txt\",\"w\")\n",
    "    fl.write(cipher_txt)\n",
    "    #finally close the opened files\n",
    "    fl.close()\n",
    "    IN.close()\n",
    "    return cipher_txt"
   ]
  },
  {
   "cell_type": "code",
   "execution_count": 39,
   "metadata": {},
   "outputs": [],
   "source": [
    "#this is bobs machine with secretkey shared with alice fixed\n",
    "def Bobs_machine(crypted_text):\n",
    "    #initialising all characters and converting cryptedtext to list of characters.\n",
    "    a=[\"A\",\"B\",\"C\",\"D\",\"E\",\"F\",\"G\",\"H\",\"I\",\"J\",\"K\",\"L\",\"M\",\"N\",\"O\",\"P\",\"Q\",\"R\",\"S\",\"T\",\"U\",\"V\",\"W\",\"X\",\"Y\",\"Z\"]\n",
    "    key=15\n",
    "    crypted_text=crypted_text.upper()\n",
    "    list_crypted_text=list(crypted_text)\n",
    "    #function number a text according to its corresponing alphabet.\n",
    "    def char_to_number(b_text,a,num_txt):\n",
    "        for i in range(0,len(list_crypted_text)):\n",
    "            for j in range(0,len(a)):\n",
    "                if b_text[i]==a[j]:\n",
    "                    num_txt.append(j)\n",
    "    #making the list with number intendation to characters in num_txt\n",
    "    num_txt=list()\n",
    "    char_to_number(list_crypted_text,a,num_txt)\n",
    "    #function to convert plain num to plain number using c=(p-key) mod 26  .\n",
    "    def decrypt_(num_txt,key):\n",
    "        for i in range(0,len(num_txt)):\n",
    "            num_txt[i]=(num_txt[i]-key)%26\n",
    "    #changing plain number list to decrypted number list\n",
    "    decrypt_(num_txt,key)\n",
    "    #function to make alphabets according to its corresponding number.\n",
    "    def number_to_char(num_txt,a,plain_text):\n",
    "        for i in range(0,len(num_txt)):\n",
    "            for j in range(0,len(a)):\n",
    "                if(num_txt[i]==j):\n",
    "                    plain_text.append(a[j])\n",
    "    #making the decrypted text to plain_text\n",
    "    plain_text=list()\n",
    "    number_to_char(num_txt,a,plain_text)\n",
    "    #converting plain text list to string\n",
    "    plain_txt=str()\n",
    "    plain_txt=plain_txt.join(plain_text)\n",
    "    #writing the plain text to input.txt\n",
    "    fl=open(\"input.txt\",\"w\")\n",
    "    fl.write(plain_txt)\n",
    "    #finally close the opened files\n",
    "    fl.close()\n",
    "    IN.close()\n",
    "    return plain_txt"
   ]
  },
  {
   "cell_type": "markdown",
   "metadata": {},
   "source": [
    "\n",
    "       Type 2 : Statistical Attack - Here we know that the most used english alphabet is 'e' so from the plain text we \n",
    "                                       find the most used alphabet in the cyphertext and then map 'e' to that alphabet\n",
    "                                       and then finds what is the key.\n",
    "                                "
   ]
  },
  {
   "cell_type": "code",
   "execution_count": 17,
   "metadata": {},
   "outputs": [],
   "source": [
    "#reading encryped text from input text document to crypted_text as string.\n",
    "IN=open(\"output.txt\",\"r\")\n",
    "crypted_text=IN.read()\n",
    "a=[\"A\",\"B\",\"C\",\"D\",\"E\",\"F\",\"G\",\"H\",\"I\",\"J\",\"K\",\"L\",\"M\",\"N\",\"O\",\"P\",\"Q\",\"R\",\"S\",\"T\",\"U\",\"V\",\"W\",\"X\",\"Y\",\"Z\"]"
   ]
  },
  {
   "cell_type": "code",
   "execution_count": 18,
   "metadata": {},
   "outputs": [],
   "source": [
    "#function number a text according to its corresponing alphabet.\n",
    "def char_to_number(b_text,a):\n",
    "    for j in range(0,len(a)):\n",
    "        if a[j]==b_text:\n",
    "            return j;"
   ]
  },
  {
   "cell_type": "code",
   "execution_count": 1,
   "metadata": {},
   "outputs": [],
   "source": [
    "def frequency(st):\n",
    "    freq={}\n",
    "    for i in st:\n",
    "        if i in freq:\n",
    "            freq[i]+=1\n",
    "        else:\n",
    "            freq[i]=1\n",
    "    return freq"
   ]
  },
  {
   "cell_type": "code",
   "execution_count": 2,
   "metadata": {},
   "outputs": [
    {
     "ename": "NameError",
     "evalue": "name 'crypted_text' is not defined",
     "output_type": "error",
     "traceback": [
      "\u001b[0;31m---------------------------------------------------------------------------\u001b[0m",
      "\u001b[0;31mNameError\u001b[0m                                 Traceback (most recent call last)",
      "\u001b[0;32m<ipython-input-2-0c314b1dc4b7>\u001b[0m in \u001b[0;36m<module>\u001b[0;34m()\u001b[0m\n\u001b[1;32m      1\u001b[0m \u001b[0mdi\u001b[0m\u001b[0;34m=\u001b[0m\u001b[0;34m{\u001b[0m\u001b[0;34m}\u001b[0m\u001b[0;34m\u001b[0m\u001b[0;34m\u001b[0m\u001b[0m\n\u001b[0;32m----> 2\u001b[0;31m \u001b[0mdi\u001b[0m\u001b[0;34m=\u001b[0m\u001b[0mfrequency\u001b[0m\u001b[0;34m(\u001b[0m\u001b[0mcrypted_text\u001b[0m\u001b[0;34m)\u001b[0m\u001b[0;34m\u001b[0m\u001b[0;34m\u001b[0m\u001b[0m\n\u001b[0m",
      "\u001b[0;31mNameError\u001b[0m: name 'crypted_text' is not defined"
     ]
    }
   ],
   "source": [
    "di={}\n",
    "di=frequency(crypted_text)\n",
    "di"
   ]
  },
  {
   "cell_type": "code",
   "execution_count": 19,
   "metadata": {},
   "outputs": [
    {
     "name": "stdout",
     "output_type": "stream",
     "text": [
      "Enter the highest numbered alphabet found out from abovek\n",
      "20 is the key\n"
     ]
    }
   ],
   "source": [
    "#finding out the key by taking the difference of substitute for e from the highest frequency\n",
    "e_val=input(\"Enter the highest numbered alphabet found out from above frequency table\")\n",
    "e_val=e_val.upper()\n",
    "e_num=char_to_number(e_val,a)\n",
    "key_found=(4-e_num)%26\n",
    "print(\"{} is the key\".format(key_found))"
   ]
  },
  {
   "cell_type": "markdown",
   "metadata": {},
   "source": [
    "    METHOD 2 : KNOWN PLAIN TEXT ATTACK\n",
    "    \n",
    "    This is the method in which one or more pairs of cypher and plain text is known to eve. And then analysis is done on\n",
    "    both of these to get the key"
   ]
  },
  {
   "cell_type": "code",
   "execution_count": 20,
   "metadata": {},
   "outputs": [],
   "source": [
    "#reading encryped text from input text document to crypted_text as string.\n",
    "out=open(\"output.txt\",\"r\")\n",
    "crypted_text=out.read()\n",
    "IN=open(\"input.txt\",\"r\")\n",
    "plain_text=IN.read()\n",
    "a=[\"A\",\"B\",\"C\",\"D\",\"E\",\"F\",\"G\",\"H\",\"I\",\"J\",\"K\",\"L\",\"M\",\"N\",\"O\",\"P\",\"Q\",\"R\",\"S\",\"T\",\"U\",\"V\",\"W\",\"X\",\"Y\",\"Z\"]"
   ]
  },
  {
   "cell_type": "code",
   "execution_count": 21,
   "metadata": {},
   "outputs": [],
   "source": [
    "#function number a text according to its corresponing alphabet.\n",
    "def char_to_number(b_text,a):\n",
    "    for j in range(0,len(a)):\n",
    "        if a[j]==b_text:\n",
    "            return j;"
   ]
  },
  {
   "cell_type": "code",
   "execution_count": 22,
   "metadata": {},
   "outputs": [],
   "source": [
    "#finding the difference of the first characters of both cipher and plain text to find the key\n",
    "def known_plain(crypted_text,plain_text,a):\n",
    "    p1=char_to_number(crypted_text[0],a)\n",
    "    p2=char_to_number(plain_text[0],a)\n",
    "    key_found=(p1-p2)%26\n",
    "    print(\"{} is the key\".format(key_found))"
   ]
  },
  {
   "cell_type": "code",
   "execution_count": 24,
   "metadata": {},
   "outputs": [
    {
     "name": "stdout",
     "output_type": "stream",
     "text": [
      "15 is the key\n"
     ]
    }
   ],
   "source": [
    "#call to known plainttext function\n",
    "known_plain(crypted_text,plain_text,a)"
   ]
  },
  {
   "cell_type": "markdown",
   "metadata": {},
   "source": [
    "    \n",
    "    METHOD 3 : CHOOSEN PLAIN TEXT ATTACK\n",
    "        \n",
    "    This is the kind of attack where eve has access to alices or the encryption machine. So she chooses a plain text to \n",
    "    generate a pair and then can apply known plain text attact"
   ]
  },
  {
   "cell_type": "code",
   "execution_count": 35,
   "metadata": {},
   "outputs": [],
   "source": [
    "#this generates a cipher text plain text pair from alices matchine.Alices machine takes plain text as input and \n",
    "#produces crypted text\n",
    "plain_text=\"abcde\"\n",
    "crypted_text=Alices_machine(plain_text)\n",
    "plain_text=plain_text.upper()"
   ]
  },
  {
   "cell_type": "code",
   "execution_count": 36,
   "metadata": {},
   "outputs": [
    {
     "name": "stdout",
     "output_type": "stream",
     "text": [
      "15 is the key\n"
     ]
    }
   ],
   "source": [
    "#call to known plainttext function\n",
    "known_plain(crypted_text,plain_text,a)"
   ]
  },
  {
   "cell_type": "markdown",
   "metadata": {},
   "source": [
    "    \n",
    "    METHOD 4 : CHHOSEN CIPHER TEXT ATTACK\n",
    "    \n",
    "    This is the kind of attack where eve has access to bobs or the decryption machine. So she chooses a cipher text\n",
    "    then generate the plain text and the runs a known plain text attack"
   ]
  },
  {
   "cell_type": "code",
   "execution_count": 40,
   "metadata": {},
   "outputs": [],
   "source": [
    "#this generates a plain text cipher text pair from bobs matchine.Bobs machine takes cipher text as input and \n",
    "#produces plain text\n",
    "crypted_text=\"abcde\"\n",
    "plain_text=Bobs_machine(crypted_text)\n",
    "crypted_text=crypted_text.upper()"
   ]
  },
  {
   "cell_type": "code",
   "execution_count": 41,
   "metadata": {},
   "outputs": [
    {
     "name": "stdout",
     "output_type": "stream",
     "text": [
      "15 is the key\n"
     ]
    }
   ],
   "source": [
    "#call to known plainttext function\n",
    "known_plain(crypted_text,plain_text,a)"
   ]
  },
  {
   "cell_type": "code",
   "execution_count": null,
   "metadata": {},
   "outputs": [],
   "source": []
  }
 ],
 "metadata": {
  "kernelspec": {
   "display_name": "SageMath 9.1",
   "language": "sage",
   "name": "sagemath"
  },
  "language_info": {
   "codemirror_mode": {
    "name": "ipython",
    "version": 3
   },
   "file_extension": ".py",
   "mimetype": "text/x-python",
   "name": "python",
   "nbconvert_exporter": "python",
   "pygments_lexer": "ipython3",
   "version": "3.7.3"
  }
 },
 "nbformat": 4,
 "nbformat_minor": 2
}
