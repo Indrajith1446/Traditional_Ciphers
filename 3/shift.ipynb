{
 "cells": [
  {
   "cell_type": "markdown",
   "metadata": {},
   "source": [
    "                                               ENCRYPTION"
   ]
  },
  {
   "cell_type": "code",
   "execution_count": 12,
   "metadata": {},
   "outputs": [],
   "source": [
    "#reading plain text from input text document to plain_text as string.\n",
    "IN=open(\"input.txt\",\"r\")\n",
    "plain_text=IN.read()"
   ]
  },
  {
   "cell_type": "code",
   "execution_count": 13,
   "metadata": {},
   "outputs": [],
   "source": [
    "#initialising all characters and converting plaintext to list of characters.\n",
    "a=[\"A\",\"B\",\"C\",\"D\",\"E\",\"F\",\"G\",\"H\",\"I\",\"J\",\"K\",\"L\",\"M\",\"N\",\"O\",\"P\",\"Q\",\"R\",\"S\",\"T\",\"U\",\"V\",\"W\",\"X\",\"Y\",\"Z\"]\n",
    "key=15\n",
    "plain_text=plain_text.upper()\n",
    "list_plain_text=list(plain_text)"
   ]
  },
  {
   "cell_type": "code",
   "execution_count": 14,
   "metadata": {},
   "outputs": [],
   "source": [
    "#function number a text according to its corresponing alphabet.\n",
    "def char_to_number(b_text,a,num_txt):\n",
    "    for i in range(0,len(list_plain_text)):\n",
    "        for j in range(0,len(a)):\n",
    "            if b_text[i]==a[j]:\n",
    "                num_txt.append(j)"
   ]
  },
  {
   "cell_type": "code",
   "execution_count": 15,
   "metadata": {},
   "outputs": [],
   "source": [
    "#making the list with number intendation to characters in num_txt\n",
    "num_txt=list()\n",
    "char_to_number(list_plain_text,a,num_txt)"
   ]
  },
  {
   "cell_type": "code",
   "execution_count": 16,
   "metadata": {},
   "outputs": [],
   "source": [
    "#function to convert plain num to encrypted number using c=(p+key) mod 26  .\n",
    "def encrypt_(num_txt,key):\n",
    "    for i in range(0,len(num_txt)):\n",
    "        num_txt[i]=(num_txt[i]+key)%26"
   ]
  },
  {
   "cell_type": "code",
   "execution_count": 17,
   "metadata": {},
   "outputs": [],
   "source": [
    "#changing plain number list to encrypted number list\n",
    "encrypt_(num_txt,key)"
   ]
  },
  {
   "cell_type": "code",
   "execution_count": 18,
   "metadata": {},
   "outputs": [],
   "source": [
    "#function to make alphabets according to its corresponding number.\n",
    "def number_to_char(num_txt,a,crypted_text):\n",
    "    for i in range(0,len(num_txt)):\n",
    "        for j in range(0,len(a)):\n",
    "            if(num_txt[i]==j):\n",
    "                crypted_text.append(a[j])"
   ]
  },
  {
   "cell_type": "code",
   "execution_count": 19,
   "metadata": {},
   "outputs": [],
   "source": [
    "#making the crypted text to crypted_text\n",
    "crypted_text=list()\n",
    "number_to_char(num_txt,a,crypted_text)"
   ]
  },
  {
   "cell_type": "code",
   "execution_count": 20,
   "metadata": {},
   "outputs": [],
   "source": [
    "#converting cypher text list to string\n",
    "cipher_txt=str()\n",
    "cipher_txt=cipher_txt.join(crypted_text)"
   ]
  },
  {
   "cell_type": "code",
   "execution_count": 21,
   "metadata": {},
   "outputs": [
    {
     "data": {
      "text/plain": [
       "11"
      ]
     },
     "execution_count": 21,
     "metadata": {},
     "output_type": "execute_result"
    }
   ],
   "source": [
    "#writing the cipher text to output.txt\n",
    "fl=open(\"output.txt\",\"w\")\n",
    "fl.write(cipher_txt)"
   ]
  },
  {
   "cell_type": "code",
   "execution_count": 22,
   "metadata": {},
   "outputs": [],
   "source": [
    "#finally close the opened files\n",
    "fl.close()\n",
    "IN.close()"
   ]
  },
  {
   "cell_type": "markdown",
   "metadata": {},
   "source": [
    "                                                DECRYPTION"
   ]
  },
  {
   "cell_type": "code",
   "execution_count": 23,
   "metadata": {},
   "outputs": [],
   "source": [
    "#reading encryped text from input text document to crypted_text as string.\n",
    "IN=open(\"output.txt\",\"r\")\n",
    "crypted_text=IN.read()"
   ]
  },
  {
   "cell_type": "code",
   "execution_count": 24,
   "metadata": {},
   "outputs": [],
   "source": [
    "#initialising all characters and converting cryptedtext to list of characters.\n",
    "a=[\"A\",\"B\",\"C\",\"D\",\"E\",\"F\",\"G\",\"H\",\"I\",\"J\",\"K\",\"L\",\"M\",\"N\",\"O\",\"P\",\"Q\",\"R\",\"S\",\"T\",\"U\",\"V\",\"W\",\"X\",\"Y\",\"Z\"]\n",
    "key=13\n",
    "crypted_text=crypted_text.upper()\n",
    "list_crypted_text=list(crypted_text)"
   ]
  },
  {
   "cell_type": "code",
   "execution_count": 25,
   "metadata": {},
   "outputs": [],
   "source": [
    "#function number a text according to its corresponing alphabet.\n",
    "def char_to_number(b_text,a,num_txt):\n",
    "    for i in range(0,len(list_crypted_text)):\n",
    "        for j in range(0,len(a)):\n",
    "            if b_text[i]==a[j]:\n",
    "                num_txt.append(j)"
   ]
  },
  {
   "cell_type": "code",
   "execution_count": 26,
   "metadata": {},
   "outputs": [],
   "source": [
    "#making the list with number intendation to characters in num_txt\n",
    "num_txt=list()\n",
    "char_to_number(list_crypted_text,a,num_txt)"
   ]
  },
  {
   "cell_type": "code",
   "execution_count": 27,
   "metadata": {},
   "outputs": [],
   "source": [
    "#function to convert plain num to plain number using c=(p-key) mod 26  .\n",
    "def decrypt_(num_txt,key):\n",
    "    for i in range(0,len(num_txt)):\n",
    "        num_txt[i]=(num_txt[i]-key)%26"
   ]
  },
  {
   "cell_type": "code",
   "execution_count": 28,
   "metadata": {},
   "outputs": [],
   "source": [
    "#changing plain number list to decrypted number list\n",
    "decrypt_(num_txt,key)"
   ]
  },
  {
   "cell_type": "code",
   "execution_count": 29,
   "metadata": {},
   "outputs": [],
   "source": [
    "#function to make alphabets according to its corresponding number.\n",
    "def number_to_char(num_txt,a,plain_text):\n",
    "    for i in range(0,len(num_txt)):\n",
    "        for j in range(0,len(a)):\n",
    "            if(num_txt[i]==j):\n",
    "                plain_text.append(a[j])"
   ]
  },
  {
   "cell_type": "code",
   "execution_count": 30,
   "metadata": {},
   "outputs": [],
   "source": [
    "#making the decrypted text to plain_text\n",
    "plain_text=list()\n",
    "number_to_char(num_txt,a,plain_text)"
   ]
  },
  {
   "cell_type": "code",
   "execution_count": 31,
   "metadata": {},
   "outputs": [],
   "source": [
    "#converting plain text list to string\n",
    "plain_txt=str()\n",
    "plain_txt=plain_txt.join(plain_text)"
   ]
  },
  {
   "cell_type": "code",
   "execution_count": 32,
   "metadata": {},
   "outputs": [
    {
     "data": {
      "text/plain": [
       "59"
      ]
     },
     "execution_count": 32,
     "metadata": {},
     "output_type": "execute_result"
    }
   ],
   "source": [
    "#writing the plain text to input.txt\n",
    "fl=open(\"input.txt\",\"w\")\n",
    "fl.write(plain_txt)"
   ]
  },
  {
   "cell_type": "code",
   "execution_count": 33,
   "metadata": {},
   "outputs": [],
   "source": [
    "#finally close the opened files\n",
    "fl.close()\n",
    "IN.close()"
   ]
  },
  {
   "cell_type": "code",
   "execution_count": null,
   "metadata": {},
   "outputs": [],
   "source": []
  }
 ],
 "metadata": {
  "kernelspec": {
   "display_name": "SageMath 9.1",
   "language": "sage",
   "name": "sagemath"
  },
  "language_info": {
   "codemirror_mode": {
    "name": "ipython",
    "version": 3
   },
   "file_extension": ".py",
   "mimetype": "text/x-python",
   "name": "python",
   "nbconvert_exporter": "python",
   "pygments_lexer": "ipython3",
   "version": "3.7.3"
  }
 },
 "nbformat": 4,
 "nbformat_minor": 2
}
